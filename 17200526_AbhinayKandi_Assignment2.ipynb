{
 "cells": [
  {
   "cell_type": "markdown",
   "metadata": {},
   "source": [
    "# COMP41680 Assignment 2 : Text Scraping and Classification"
   ]
  },
  {
   "cell_type": "markdown",
   "metadata": {},
   "source": [
    "# Name : ABHINAY KANDI\n",
    "# Student ID : 17200526"
   ]
  },
  {
   "cell_type": "markdown",
   "metadata": {},
   "source": [
    "# Part 1. Data Collection "
   ]
  },
  {
   "cell_type": "code",
   "execution_count": 2,
   "metadata": {
    "collapsed": true
   },
   "outputs": [],
   "source": [
    "#loading libraries\n",
    "import urllib.request\n",
    "import requests\n",
    "import nltk\n",
    "import os.path\n",
    "import numpy as np\n",
    "import pandas as pd\n",
    "import nltk\n",
    "import re\n",
    "import os\n",
    "import string\n",
    "from bs4 import BeautifulSoup\n",
    "from sklearn import feature_extraction\n",
    "from sklearn.feature_extraction.text import CountVectorizer\n",
    "import seaborn as sns\n",
    "import matplotlib.pyplot as plt\n",
    "%matplotlib inline"
   ]
  },
  {
   "cell_type": "markdown",
   "metadata": {},
   "source": [
    "### 1. Identify the URLs and category labels for all news articles listed on the website:\n",
    "http://mlg.ucd.ie/modules/COMP41680/archive/index.html"
   ]
  },
  {
   "cell_type": "code",
   "execution_count": 3,
   "metadata": {},
   "outputs": [
    {
     "data": {
      "text/plain": [
       "'http://mlg.ucd.ie/modules/COMP41680/archive/'"
      ]
     },
     "execution_count": 3,
     "metadata": {},
     "output_type": "execute_result"
    }
   ],
   "source": [
    "URL=\"http://mlg.ucd.ie/modules/COMP41680/archive/index.html\"\n",
    "url=re.match(\"^http://.*/\",URL).group() #pattern matching\n",
    "url"
   ]
  },
  {
   "cell_type": "code",
   "execution_count": 4,
   "metadata": {
    "scrolled": true
   },
   "outputs": [
    {
     "data": {
      "text/plain": [
       "['http://mlg.ucd.ie/modules/COMP41680/archive/month-jan-2017.html',\n",
       " 'http://mlg.ucd.ie/modules/COMP41680/archive/month-feb-2017.html',\n",
       " 'http://mlg.ucd.ie/modules/COMP41680/archive/month-mar-2017.html',\n",
       " 'http://mlg.ucd.ie/modules/COMP41680/archive/month-apr-2017.html',\n",
       " 'http://mlg.ucd.ie/modules/COMP41680/archive/month-may-2017.html',\n",
       " 'http://mlg.ucd.ie/modules/COMP41680/archive/month-jun-2017.html',\n",
       " 'http://mlg.ucd.ie/modules/COMP41680/archive/month-jul-2017.html',\n",
       " 'http://mlg.ucd.ie/modules/COMP41680/archive/month-aug-2017.html',\n",
       " 'http://mlg.ucd.ie/modules/COMP41680/archive/month-sep-2017.html',\n",
       " 'http://mlg.ucd.ie/modules/COMP41680/archive/month-oct-2017.html',\n",
       " 'http://mlg.ucd.ie/modules/COMP41680/archive/month-nov-2017.html',\n",
       " 'http://mlg.ucd.ie/modules/COMP41680/archive/month-dec-2017.html']"
      ]
     },
     "execution_count": 4,
     "metadata": {},
     "output_type": "execute_result"
    }
   ],
   "source": [
    "#main page links\n",
    "main_link=[]\n",
    "month=[]\n",
    "page = urllib.request.urlopen(\"http://mlg.ucd.ie/modules/COMP41680/archive/index.html\")\n",
    "html_page =page.read().decode(\"utf-8\")\n",
    "soup = BeautifulSoup(html_page,'html.parser')\n",
    "for link in soup.findAll('a',href=lambda x: x and x.startswith('month')):\n",
    "    main_link.append(url+link.get('href'))\n",
    "    month.append(link.get_text())\n",
    "page.close()    \n",
    "month\n",
    "main_link"
   ]
  },
  {
   "cell_type": "markdown",
   "metadata": {},
   "source": [
    "Above I'm fetching the links in the main page, which will be used to get the inner links from each of the 12 links."
   ]
  },
  {
   "cell_type": "code",
   "execution_count": 5,
   "metadata": {
    "scrolled": true
   },
   "outputs": [
    {
     "data": {
      "text/plain": [
       "['http://mlg.ucd.ie/modules/COMP41680/archive/article-jan-0418.html',\n",
       " 'http://mlg.ucd.ie/modules/COMP41680/archive/article-jan-0027.html',\n",
       " 'http://mlg.ucd.ie/modules/COMP41680/archive/article-jan-0631.html',\n",
       " 'http://mlg.ucd.ie/modules/COMP41680/archive/article-jan-2105.html',\n",
       " 'http://mlg.ucd.ie/modules/COMP41680/archive/article-jan-3300.html',\n",
       " 'http://mlg.ucd.ie/modules/COMP41680/archive/article-jan-4187.html',\n",
       " 'http://mlg.ucd.ie/modules/COMP41680/archive/article-jan-1974.html',\n",
       " 'http://mlg.ucd.ie/modules/COMP41680/archive/article-jan-3666.html',\n",
       " 'http://mlg.ucd.ie/modules/COMP41680/archive/article-jan-2629.html',\n",
       " 'http://mlg.ucd.ie/modules/COMP41680/archive/article-jan-2415.html',\n",
       " 'http://mlg.ucd.ie/modules/COMP41680/archive/article-jan-4210.html',\n",
       " 'http://mlg.ucd.ie/modules/COMP41680/archive/article-jan-4789.html',\n",
       " 'http://mlg.ucd.ie/modules/COMP41680/archive/article-jan-3452.html',\n",
       " 'http://mlg.ucd.ie/modules/COMP41680/archive/article-jan-2428.html',\n",
       " 'http://mlg.ucd.ie/modules/COMP41680/archive/article-jan-4766.html',\n",
       " 'http://mlg.ucd.ie/modules/COMP41680/archive/article-jan-2595.html',\n",
       " 'http://mlg.ucd.ie/modules/COMP41680/archive/article-jan-2935.html',\n",
       " 'http://mlg.ucd.ie/modules/COMP41680/archive/article-jan-0578.html',\n",
       " 'http://mlg.ucd.ie/modules/COMP41680/archive/article-jan-3023.html',\n",
       " 'http://mlg.ucd.ie/modules/COMP41680/archive/article-jan-2356.html',\n",
       " 'http://mlg.ucd.ie/modules/COMP41680/archive/article-jan-1023.html',\n",
       " 'http://mlg.ucd.ie/modules/COMP41680/archive/article-jan-0641.html',\n",
       " 'http://mlg.ucd.ie/modules/COMP41680/archive/article-jan-2461.html',\n",
       " 'http://mlg.ucd.ie/modules/COMP41680/archive/article-jan-4541.html',\n",
       " 'http://mlg.ucd.ie/modules/COMP41680/archive/article-jan-1259.html',\n",
       " 'http://mlg.ucd.ie/modules/COMP41680/archive/article-jan-4007.html',\n",
       " 'http://mlg.ucd.ie/modules/COMP41680/archive/article-jan-4171.html',\n",
       " 'http://mlg.ucd.ie/modules/COMP41680/archive/article-jan-0272.html',\n",
       " 'http://mlg.ucd.ie/modules/COMP41680/archive/article-jan-4894.html',\n",
       " 'http://mlg.ucd.ie/modules/COMP41680/archive/article-jan-4504.html',\n",
       " 'http://mlg.ucd.ie/modules/COMP41680/archive/article-jan-1740.html',\n",
       " 'http://mlg.ucd.ie/modules/COMP41680/archive/article-jan-2390.html',\n",
       " 'http://mlg.ucd.ie/modules/COMP41680/archive/article-jan-4471.html',\n",
       " 'http://mlg.ucd.ie/modules/COMP41680/archive/article-jan-3978.html',\n",
       " 'http://mlg.ucd.ie/modules/COMP41680/archive/article-jan-2209.html',\n",
       " 'http://mlg.ucd.ie/modules/COMP41680/archive/article-jan-0858.html',\n",
       " 'http://mlg.ucd.ie/modules/COMP41680/archive/article-jan-3187.html',\n",
       " 'http://mlg.ucd.ie/modules/COMP41680/archive/article-jan-1282.html',\n",
       " 'http://mlg.ucd.ie/modules/COMP41680/archive/article-jan-3414.html',\n",
       " 'http://mlg.ucd.ie/modules/COMP41680/archive/article-jan-2289.html',\n",
       " 'http://mlg.ucd.ie/modules/COMP41680/archive/article-jan-1899.html',\n",
       " 'http://mlg.ucd.ie/modules/COMP41680/archive/article-jan-3686.html',\n",
       " 'http://mlg.ucd.ie/modules/COMP41680/archive/article-jan-3679.html',\n",
       " 'http://mlg.ucd.ie/modules/COMP41680/archive/article-jan-1469.html',\n",
       " 'http://mlg.ucd.ie/modules/COMP41680/archive/article-jan-4815.html',\n",
       " 'http://mlg.ucd.ie/modules/COMP41680/archive/article-jan-1761.html',\n",
       " 'http://mlg.ucd.ie/modules/COMP41680/archive/article-jan-4519.html',\n",
       " 'http://mlg.ucd.ie/modules/COMP41680/archive/article-jan-0248.html',\n",
       " 'http://mlg.ucd.ie/modules/COMP41680/archive/article-jan-1280.html',\n",
       " 'http://mlg.ucd.ie/modules/COMP41680/archive/article-jan-0154.html',\n",
       " 'http://mlg.ucd.ie/modules/COMP41680/archive/article-jan-4182.html',\n",
       " 'http://mlg.ucd.ie/modules/COMP41680/archive/article-jan-3155.html',\n",
       " 'http://mlg.ucd.ie/modules/COMP41680/archive/article-jan-0502.html',\n",
       " 'http://mlg.ucd.ie/modules/COMP41680/archive/article-jan-1027.html',\n",
       " 'http://mlg.ucd.ie/modules/COMP41680/archive/article-jan-3810.html',\n",
       " 'http://mlg.ucd.ie/modules/COMP41680/archive/article-jan-1481.html',\n",
       " 'http://mlg.ucd.ie/modules/COMP41680/archive/article-jan-2551.html',\n",
       " 'http://mlg.ucd.ie/modules/COMP41680/archive/article-jan-0989.html',\n",
       " 'http://mlg.ucd.ie/modules/COMP41680/archive/article-jan-0633.html',\n",
       " 'http://mlg.ucd.ie/modules/COMP41680/archive/article-jan-1566.html',\n",
       " 'http://mlg.ucd.ie/modules/COMP41680/archive/article-jan-0791.html',\n",
       " 'http://mlg.ucd.ie/modules/COMP41680/archive/article-jan-2691.html',\n",
       " 'http://mlg.ucd.ie/modules/COMP41680/archive/article-jan-3650.html',\n",
       " 'http://mlg.ucd.ie/modules/COMP41680/archive/article-jan-1867.html',\n",
       " 'http://mlg.ucd.ie/modules/COMP41680/archive/article-jan-2835.html',\n",
       " 'http://mlg.ucd.ie/modules/COMP41680/archive/article-jan-1079.html',\n",
       " 'http://mlg.ucd.ie/modules/COMP41680/archive/article-jan-4592.html',\n",
       " 'http://mlg.ucd.ie/modules/COMP41680/archive/article-jan-4111.html',\n",
       " 'http://mlg.ucd.ie/modules/COMP41680/archive/article-jan-0599.html',\n",
       " 'http://mlg.ucd.ie/modules/COMP41680/archive/article-jan-0969.html',\n",
       " 'http://mlg.ucd.ie/modules/COMP41680/archive/article-jan-2042.html',\n",
       " 'http://mlg.ucd.ie/modules/COMP41680/archive/article-jan-0050.html',\n",
       " 'http://mlg.ucd.ie/modules/COMP41680/archive/article-jan-4860.html',\n",
       " 'http://mlg.ucd.ie/modules/COMP41680/archive/article-jan-0180.html',\n",
       " 'http://mlg.ucd.ie/modules/COMP41680/archive/article-jan-1582.html',\n",
       " 'http://mlg.ucd.ie/modules/COMP41680/archive/article-jan-4456.html',\n",
       " 'http://mlg.ucd.ie/modules/COMP41680/archive/article-jan-3002.html',\n",
       " 'http://mlg.ucd.ie/modules/COMP41680/archive/article-jan-2380.html',\n",
       " 'http://mlg.ucd.ie/modules/COMP41680/archive/article-jan-3243.html',\n",
       " 'http://mlg.ucd.ie/modules/COMP41680/archive/article-jan-3151.html',\n",
       " 'http://mlg.ucd.ie/modules/COMP41680/archive/article-jan-2619.html',\n",
       " 'http://mlg.ucd.ie/modules/COMP41680/archive/article-jan-1811.html',\n",
       " 'http://mlg.ucd.ie/modules/COMP41680/archive/article-jan-3831.html',\n",
       " 'http://mlg.ucd.ie/modules/COMP41680/archive/article-jan-4567.html',\n",
       " 'http://mlg.ucd.ie/modules/COMP41680/archive/article-jan-3938.html',\n",
       " 'http://mlg.ucd.ie/modules/COMP41680/archive/article-jan-4175.html',\n",
       " 'http://mlg.ucd.ie/modules/COMP41680/archive/article-jan-0237.html',\n",
       " 'http://mlg.ucd.ie/modules/COMP41680/archive/article-jan-0924.html',\n",
       " 'http://mlg.ucd.ie/modules/COMP41680/archive/article-jan-1731.html',\n",
       " 'http://mlg.ucd.ie/modules/COMP41680/archive/article-jan-3981.html',\n",
       " 'http://mlg.ucd.ie/modules/COMP41680/archive/article-jan-2769.html',\n",
       " 'http://mlg.ucd.ie/modules/COMP41680/archive/article-jan-2140.html',\n",
       " 'http://mlg.ucd.ie/modules/COMP41680/archive/article-jan-3329.html',\n",
       " 'http://mlg.ucd.ie/modules/COMP41680/archive/article-jan-1087.html',\n",
       " 'http://mlg.ucd.ie/modules/COMP41680/archive/article-jan-0480.html',\n",
       " 'http://mlg.ucd.ie/modules/COMP41680/archive/article-jan-2591.html',\n",
       " 'http://mlg.ucd.ie/modules/COMP41680/archive/article-jan-2407.html',\n",
       " 'http://mlg.ucd.ie/modules/COMP41680/archive/article-jan-1520.html',\n",
       " 'http://mlg.ucd.ie/modules/COMP41680/archive/article-jan-3036.html',\n",
       " 'http://mlg.ucd.ie/modules/COMP41680/archive/article-jan-1051.html',\n",
       " 'http://mlg.ucd.ie/modules/COMP41680/archive/article-jan-2864.html',\n",
       " 'http://mlg.ucd.ie/modules/COMP41680/archive/article-jan-4078.html',\n",
       " 'http://mlg.ucd.ie/modules/COMP41680/archive/article-jan-0269.html',\n",
       " 'http://mlg.ucd.ie/modules/COMP41680/archive/article-jan-1728.html',\n",
       " 'http://mlg.ucd.ie/modules/COMP41680/archive/article-jan-0976.html',\n",
       " 'http://mlg.ucd.ie/modules/COMP41680/archive/article-jan-3315.html',\n",
       " 'http://mlg.ucd.ie/modules/COMP41680/archive/article-jan-3425.html',\n",
       " 'http://mlg.ucd.ie/modules/COMP41680/archive/article-jan-1296.html',\n",
       " 'http://mlg.ucd.ie/modules/COMP41680/archive/article-jan-4675.html',\n",
       " 'http://mlg.ucd.ie/modules/COMP41680/archive/article-jan-3694.html',\n",
       " 'http://mlg.ucd.ie/modules/COMP41680/archive/article-jan-1550.html',\n",
       " 'http://mlg.ucd.ie/modules/COMP41680/archive/article-jan-1587.html',\n",
       " 'http://mlg.ucd.ie/modules/COMP41680/archive/article-jan-0587.html',\n",
       " 'http://mlg.ucd.ie/modules/COMP41680/archive/article-jan-1650.html',\n",
       " 'http://mlg.ucd.ie/modules/COMP41680/archive/article-jan-0867.html',\n",
       " 'http://mlg.ucd.ie/modules/COMP41680/archive/article-jan-0457.html',\n",
       " 'http://mlg.ucd.ie/modules/COMP41680/archive/article-jan-2075.html',\n",
       " 'http://mlg.ucd.ie/modules/COMP41680/archive/article-jan-3244.html',\n",
       " 'http://mlg.ucd.ie/modules/COMP41680/archive/article-feb-3392.html',\n",
       " 'http://mlg.ucd.ie/modules/COMP41680/archive/article-feb-0704.html',\n",
       " 'http://mlg.ucd.ie/modules/COMP41680/archive/article-feb-0913.html',\n",
       " 'http://mlg.ucd.ie/modules/COMP41680/archive/article-feb-3975.html',\n",
       " 'http://mlg.ucd.ie/modules/COMP41680/archive/article-feb-0641.html',\n",
       " 'http://mlg.ucd.ie/modules/COMP41680/archive/article-feb-0608.html',\n",
       " 'http://mlg.ucd.ie/modules/COMP41680/archive/article-feb-4436.html',\n",
       " 'http://mlg.ucd.ie/modules/COMP41680/archive/article-feb-0930.html',\n",
       " 'http://mlg.ucd.ie/modules/COMP41680/archive/article-feb-4492.html',\n",
       " 'http://mlg.ucd.ie/modules/COMP41680/archive/article-feb-4474.html',\n",
       " 'http://mlg.ucd.ie/modules/COMP41680/archive/article-feb-4340.html',\n",
       " 'http://mlg.ucd.ie/modules/COMP41680/archive/article-feb-1116.html',\n",
       " 'http://mlg.ucd.ie/modules/COMP41680/archive/article-feb-2873.html',\n",
       " 'http://mlg.ucd.ie/modules/COMP41680/archive/article-feb-2303.html',\n",
       " 'http://mlg.ucd.ie/modules/COMP41680/archive/article-feb-2977.html',\n",
       " 'http://mlg.ucd.ie/modules/COMP41680/archive/article-feb-4547.html',\n",
       " 'http://mlg.ucd.ie/modules/COMP41680/archive/article-feb-3154.html',\n",
       " 'http://mlg.ucd.ie/modules/COMP41680/archive/article-feb-1466.html',\n",
       " 'http://mlg.ucd.ie/modules/COMP41680/archive/article-feb-3116.html',\n",
       " 'http://mlg.ucd.ie/modules/COMP41680/archive/article-feb-3641.html',\n",
       " 'http://mlg.ucd.ie/modules/COMP41680/archive/article-feb-3724.html',\n",
       " 'http://mlg.ucd.ie/modules/COMP41680/archive/article-feb-1553.html',\n",
       " 'http://mlg.ucd.ie/modules/COMP41680/archive/article-feb-0192.html',\n",
       " 'http://mlg.ucd.ie/modules/COMP41680/archive/article-feb-2830.html',\n",
       " 'http://mlg.ucd.ie/modules/COMP41680/archive/article-feb-2366.html',\n",
       " 'http://mlg.ucd.ie/modules/COMP41680/archive/article-feb-3261.html',\n",
       " 'http://mlg.ucd.ie/modules/COMP41680/archive/article-feb-2526.html',\n",
       " 'http://mlg.ucd.ie/modules/COMP41680/archive/article-feb-3097.html',\n",
       " 'http://mlg.ucd.ie/modules/COMP41680/archive/article-feb-1454.html',\n",
       " 'http://mlg.ucd.ie/modules/COMP41680/archive/article-feb-0258.html',\n",
       " 'http://mlg.ucd.ie/modules/COMP41680/archive/article-feb-4548.html',\n",
       " 'http://mlg.ucd.ie/modules/COMP41680/archive/article-feb-0679.html',\n",
       " 'http://mlg.ucd.ie/modules/COMP41680/archive/article-feb-1000.html',\n",
       " 'http://mlg.ucd.ie/modules/COMP41680/archive/article-feb-1821.html',\n",
       " 'http://mlg.ucd.ie/modules/COMP41680/archive/article-feb-4494.html',\n",
       " 'http://mlg.ucd.ie/modules/COMP41680/archive/article-feb-0250.html',\n",
       " 'http://mlg.ucd.ie/modules/COMP41680/archive/article-feb-2382.html',\n",
       " 'http://mlg.ucd.ie/modules/COMP41680/archive/article-feb-4407.html',\n",
       " 'http://mlg.ucd.ie/modules/COMP41680/archive/article-feb-3768.html',\n",
       " 'http://mlg.ucd.ie/modules/COMP41680/archive/article-feb-3375.html',\n",
       " 'http://mlg.ucd.ie/modules/COMP41680/archive/article-feb-2553.html',\n",
       " 'http://mlg.ucd.ie/modules/COMP41680/archive/article-feb-2750.html',\n",
       " 'http://mlg.ucd.ie/modules/COMP41680/archive/article-feb-0829.html',\n",
       " 'http://mlg.ucd.ie/modules/COMP41680/archive/article-feb-3941.html',\n",
       " 'http://mlg.ucd.ie/modules/COMP41680/archive/article-feb-1333.html',\n",
       " 'http://mlg.ucd.ie/modules/COMP41680/archive/article-feb-3708.html',\n",
       " 'http://mlg.ucd.ie/modules/COMP41680/archive/article-feb-1684.html',\n",
       " 'http://mlg.ucd.ie/modules/COMP41680/archive/article-feb-4876.html',\n",
       " 'http://mlg.ucd.ie/modules/COMP41680/archive/article-feb-1493.html',\n",
       " 'http://mlg.ucd.ie/modules/COMP41680/archive/article-feb-0113.html',\n",
       " 'http://mlg.ucd.ie/modules/COMP41680/archive/article-feb-2502.html',\n",
       " 'http://mlg.ucd.ie/modules/COMP41680/archive/article-feb-2351.html',\n",
       " 'http://mlg.ucd.ie/modules/COMP41680/archive/article-feb-1245.html',\n",
       " 'http://mlg.ucd.ie/modules/COMP41680/archive/article-feb-2809.html',\n",
       " 'http://mlg.ucd.ie/modules/COMP41680/archive/article-feb-4569.html',\n",
       " 'http://mlg.ucd.ie/modules/COMP41680/archive/article-feb-4323.html',\n",
       " 'http://mlg.ucd.ie/modules/COMP41680/archive/article-feb-3937.html',\n",
       " 'http://mlg.ucd.ie/modules/COMP41680/archive/article-feb-1582.html',\n",
       " 'http://mlg.ucd.ie/modules/COMP41680/archive/article-feb-1312.html',\n",
       " 'http://mlg.ucd.ie/modules/COMP41680/archive/article-feb-2836.html',\n",
       " 'http://mlg.ucd.ie/modules/COMP41680/archive/article-feb-0505.html',\n",
       " 'http://mlg.ucd.ie/modules/COMP41680/archive/article-feb-3556.html',\n",
       " 'http://mlg.ucd.ie/modules/COMP41680/archive/article-feb-4691.html',\n",
       " 'http://mlg.ucd.ie/modules/COMP41680/archive/article-feb-4543.html',\n",
       " 'http://mlg.ucd.ie/modules/COMP41680/archive/article-feb-3028.html',\n",
       " 'http://mlg.ucd.ie/modules/COMP41680/archive/article-feb-1960.html',\n",
       " 'http://mlg.ucd.ie/modules/COMP41680/archive/article-feb-4127.html',\n",
       " 'http://mlg.ucd.ie/modules/COMP41680/archive/article-feb-4247.html',\n",
       " 'http://mlg.ucd.ie/modules/COMP41680/archive/article-feb-2114.html',\n",
       " 'http://mlg.ucd.ie/modules/COMP41680/archive/article-feb-0571.html',\n",
       " 'http://mlg.ucd.ie/modules/COMP41680/archive/article-feb-0451.html',\n",
       " 'http://mlg.ucd.ie/modules/COMP41680/archive/article-feb-1201.html',\n",
       " 'http://mlg.ucd.ie/modules/COMP41680/archive/article-feb-4578.html',\n",
       " 'http://mlg.ucd.ie/modules/COMP41680/archive/article-feb-3474.html',\n",
       " 'http://mlg.ucd.ie/modules/COMP41680/archive/article-feb-4987.html',\n",
       " 'http://mlg.ucd.ie/modules/COMP41680/archive/article-feb-4718.html',\n",
       " 'http://mlg.ucd.ie/modules/COMP41680/archive/article-feb-2135.html',\n",
       " 'http://mlg.ucd.ie/modules/COMP41680/archive/article-feb-1118.html',\n",
       " 'http://mlg.ucd.ie/modules/COMP41680/archive/article-feb-4768.html',\n",
       " 'http://mlg.ucd.ie/modules/COMP41680/archive/article-feb-4017.html',\n",
       " 'http://mlg.ucd.ie/modules/COMP41680/archive/article-feb-1005.html',\n",
       " 'http://mlg.ucd.ie/modules/COMP41680/archive/article-feb-0504.html',\n",
       " 'http://mlg.ucd.ie/modules/COMP41680/archive/article-feb-1308.html',\n",
       " 'http://mlg.ucd.ie/modules/COMP41680/archive/article-feb-2371.html',\n",
       " 'http://mlg.ucd.ie/modules/COMP41680/archive/article-feb-3067.html',\n",
       " 'http://mlg.ucd.ie/modules/COMP41680/archive/article-feb-1134.html',\n",
       " 'http://mlg.ucd.ie/modules/COMP41680/archive/article-feb-1004.html',\n",
       " 'http://mlg.ucd.ie/modules/COMP41680/archive/article-feb-0814.html',\n",
       " 'http://mlg.ucd.ie/modules/COMP41680/archive/article-feb-4229.html',\n",
       " 'http://mlg.ucd.ie/modules/COMP41680/archive/article-feb-0630.html',\n",
       " 'http://mlg.ucd.ie/modules/COMP41680/archive/article-feb-2030.html',\n",
       " 'http://mlg.ucd.ie/modules/COMP41680/archive/article-feb-1336.html',\n",
       " 'http://mlg.ucd.ie/modules/COMP41680/archive/article-feb-3074.html',\n",
       " 'http://mlg.ucd.ie/modules/COMP41680/archive/article-feb-1812.html',\n",
       " 'http://mlg.ucd.ie/modules/COMP41680/archive/article-feb-1149.html',\n",
       " 'http://mlg.ucd.ie/modules/COMP41680/archive/article-feb-0800.html',\n",
       " 'http://mlg.ucd.ie/modules/COMP41680/archive/article-feb-2206.html',\n",
       " 'http://mlg.ucd.ie/modules/COMP41680/archive/article-feb-0110.html',\n",
       " 'http://mlg.ucd.ie/modules/COMP41680/archive/article-feb-3700.html',\n",
       " 'http://mlg.ucd.ie/modules/COMP41680/archive/article-feb-4539.html',\n",
       " 'http://mlg.ucd.ie/modules/COMP41680/archive/article-feb-0707.html',\n",
       " 'http://mlg.ucd.ie/modules/COMP41680/archive/article-feb-2055.html',\n",
       " 'http://mlg.ucd.ie/modules/COMP41680/archive/article-feb-4838.html',\n",
       " 'http://mlg.ucd.ie/modules/COMP41680/archive/article-feb-2802.html',\n",
       " 'http://mlg.ucd.ie/modules/COMP41680/archive/article-feb-2640.html',\n",
       " 'http://mlg.ucd.ie/modules/COMP41680/archive/article-feb-4399.html',\n",
       " 'http://mlg.ucd.ie/modules/COMP41680/archive/article-feb-0406.html',\n",
       " 'http://mlg.ucd.ie/modules/COMP41680/archive/article-feb-2304.html',\n",
       " 'http://mlg.ucd.ie/modules/COMP41680/archive/article-feb-2170.html',\n",
       " 'http://mlg.ucd.ie/modules/COMP41680/archive/article-feb-3783.html',\n",
       " 'http://mlg.ucd.ie/modules/COMP41680/archive/article-feb-4402.html',\n",
       " 'http://mlg.ucd.ie/modules/COMP41680/archive/article-feb-1028.html',\n",
       " 'http://mlg.ucd.ie/modules/COMP41680/archive/article-feb-2316.html',\n",
       " 'http://mlg.ucd.ie/modules/COMP41680/archive/article-feb-0243.html',\n",
       " 'http://mlg.ucd.ie/modules/COMP41680/archive/article-feb-2017.html',\n",
       " 'http://mlg.ucd.ie/modules/COMP41680/archive/article-feb-2660.html',\n",
       " 'http://mlg.ucd.ie/modules/COMP41680/archive/article-feb-0224.html',\n",
       " 'http://mlg.ucd.ie/modules/COMP41680/archive/article-feb-2955.html',\n",
       " 'http://mlg.ucd.ie/modules/COMP41680/archive/article-feb-4616.html',\n",
       " 'http://mlg.ucd.ie/modules/COMP41680/archive/article-feb-0576.html',\n",
       " 'http://mlg.ucd.ie/modules/COMP41680/archive/article-feb-0519.html',\n",
       " 'http://mlg.ucd.ie/modules/COMP41680/archive/article-feb-1952.html',\n",
       " 'http://mlg.ucd.ie/modules/COMP41680/archive/article-mar-1126.html',\n",
       " 'http://mlg.ucd.ie/modules/COMP41680/archive/article-mar-3331.html',\n",
       " 'http://mlg.ucd.ie/modules/COMP41680/archive/article-mar-3141.html',\n",
       " 'http://mlg.ucd.ie/modules/COMP41680/archive/article-mar-3697.html',\n",
       " 'http://mlg.ucd.ie/modules/COMP41680/archive/article-mar-3655.html',\n",
       " 'http://mlg.ucd.ie/modules/COMP41680/archive/article-mar-2120.html',\n",
       " 'http://mlg.ucd.ie/modules/COMP41680/archive/article-mar-2380.html',\n",
       " 'http://mlg.ucd.ie/modules/COMP41680/archive/article-mar-1445.html',\n",
       " 'http://mlg.ucd.ie/modules/COMP41680/archive/article-mar-1627.html',\n",
       " 'http://mlg.ucd.ie/modules/COMP41680/archive/article-mar-0220.html',\n",
       " 'http://mlg.ucd.ie/modules/COMP41680/archive/article-mar-1595.html',\n",
       " 'http://mlg.ucd.ie/modules/COMP41680/archive/article-mar-4085.html',\n",
       " 'http://mlg.ucd.ie/modules/COMP41680/archive/article-mar-2495.html',\n",
       " 'http://mlg.ucd.ie/modules/COMP41680/archive/article-mar-4902.html',\n",
       " 'http://mlg.ucd.ie/modules/COMP41680/archive/article-mar-3484.html',\n",
       " 'http://mlg.ucd.ie/modules/COMP41680/archive/article-mar-1905.html',\n",
       " 'http://mlg.ucd.ie/modules/COMP41680/archive/article-mar-1702.html',\n",
       " 'http://mlg.ucd.ie/modules/COMP41680/archive/article-mar-4607.html',\n",
       " 'http://mlg.ucd.ie/modules/COMP41680/archive/article-mar-4510.html',\n",
       " 'http://mlg.ucd.ie/modules/COMP41680/archive/article-mar-1543.html',\n",
       " 'http://mlg.ucd.ie/modules/COMP41680/archive/article-mar-0210.html',\n",
       " 'http://mlg.ucd.ie/modules/COMP41680/archive/article-mar-1989.html',\n",
       " 'http://mlg.ucd.ie/modules/COMP41680/archive/article-mar-4293.html',\n",
       " 'http://mlg.ucd.ie/modules/COMP41680/archive/article-mar-0521.html',\n",
       " 'http://mlg.ucd.ie/modules/COMP41680/archive/article-mar-3692.html',\n",
       " 'http://mlg.ucd.ie/modules/COMP41680/archive/article-mar-2874.html',\n",
       " 'http://mlg.ucd.ie/modules/COMP41680/archive/article-mar-3420.html',\n",
       " 'http://mlg.ucd.ie/modules/COMP41680/archive/article-mar-3360.html',\n",
       " 'http://mlg.ucd.ie/modules/COMP41680/archive/article-mar-0037.html',\n",
       " 'http://mlg.ucd.ie/modules/COMP41680/archive/article-mar-2432.html',\n",
       " 'http://mlg.ucd.ie/modules/COMP41680/archive/article-mar-1244.html',\n",
       " 'http://mlg.ucd.ie/modules/COMP41680/archive/article-mar-1251.html',\n",
       " 'http://mlg.ucd.ie/modules/COMP41680/archive/article-mar-0183.html',\n",
       " 'http://mlg.ucd.ie/modules/COMP41680/archive/article-mar-2000.html',\n",
       " 'http://mlg.ucd.ie/modules/COMP41680/archive/article-mar-3083.html',\n",
       " 'http://mlg.ucd.ie/modules/COMP41680/archive/article-mar-3722.html',\n",
       " 'http://mlg.ucd.ie/modules/COMP41680/archive/article-mar-1165.html',\n",
       " 'http://mlg.ucd.ie/modules/COMP41680/archive/article-mar-2123.html',\n",
       " 'http://mlg.ucd.ie/modules/COMP41680/archive/article-mar-3909.html',\n",
       " 'http://mlg.ucd.ie/modules/COMP41680/archive/article-mar-0579.html',\n",
       " 'http://mlg.ucd.ie/modules/COMP41680/archive/article-mar-3023.html',\n",
       " 'http://mlg.ucd.ie/modules/COMP41680/archive/article-mar-0977.html',\n",
       " 'http://mlg.ucd.ie/modules/COMP41680/archive/article-mar-4216.html',\n",
       " 'http://mlg.ucd.ie/modules/COMP41680/archive/article-mar-2195.html',\n",
       " 'http://mlg.ucd.ie/modules/COMP41680/archive/article-mar-4576.html',\n",
       " 'http://mlg.ucd.ie/modules/COMP41680/archive/article-mar-2382.html',\n",
       " 'http://mlg.ucd.ie/modules/COMP41680/archive/article-mar-0012.html',\n",
       " 'http://mlg.ucd.ie/modules/COMP41680/archive/article-mar-4343.html',\n",
       " 'http://mlg.ucd.ie/modules/COMP41680/archive/article-mar-3567.html',\n",
       " 'http://mlg.ucd.ie/modules/COMP41680/archive/article-mar-1674.html',\n",
       " 'http://mlg.ucd.ie/modules/COMP41680/archive/article-mar-3810.html',\n",
       " 'http://mlg.ucd.ie/modules/COMP41680/archive/article-mar-3301.html',\n",
       " 'http://mlg.ucd.ie/modules/COMP41680/archive/article-mar-2795.html',\n",
       " 'http://mlg.ucd.ie/modules/COMP41680/archive/article-mar-3037.html',\n",
       " 'http://mlg.ucd.ie/modules/COMP41680/archive/article-mar-1629.html',\n",
       " 'http://mlg.ucd.ie/modules/COMP41680/archive/article-mar-0481.html',\n",
       " 'http://mlg.ucd.ie/modules/COMP41680/archive/article-mar-0388.html',\n",
       " 'http://mlg.ucd.ie/modules/COMP41680/archive/article-mar-1453.html',\n",
       " 'http://mlg.ucd.ie/modules/COMP41680/archive/article-mar-1606.html',\n",
       " 'http://mlg.ucd.ie/modules/COMP41680/archive/article-mar-1230.html',\n",
       " 'http://mlg.ucd.ie/modules/COMP41680/archive/article-mar-3153.html',\n",
       " 'http://mlg.ucd.ie/modules/COMP41680/archive/article-mar-0170.html',\n",
       " 'http://mlg.ucd.ie/modules/COMP41680/archive/article-mar-4481.html',\n",
       " 'http://mlg.ucd.ie/modules/COMP41680/archive/article-mar-4754.html',\n",
       " 'http://mlg.ucd.ie/modules/COMP41680/archive/article-mar-3612.html',\n",
       " 'http://mlg.ucd.ie/modules/COMP41680/archive/article-mar-3927.html',\n",
       " 'http://mlg.ucd.ie/modules/COMP41680/archive/article-mar-4340.html',\n",
       " 'http://mlg.ucd.ie/modules/COMP41680/archive/article-mar-1335.html',\n",
       " 'http://mlg.ucd.ie/modules/COMP41680/archive/article-mar-2040.html',\n",
       " 'http://mlg.ucd.ie/modules/COMP41680/archive/article-mar-0033.html',\n",
       " 'http://mlg.ucd.ie/modules/COMP41680/archive/article-mar-2536.html',\n",
       " 'http://mlg.ucd.ie/modules/COMP41680/archive/article-mar-4512.html',\n",
       " 'http://mlg.ucd.ie/modules/COMP41680/archive/article-mar-4615.html',\n",
       " 'http://mlg.ucd.ie/modules/COMP41680/archive/article-mar-4246.html',\n",
       " 'http://mlg.ucd.ie/modules/COMP41680/archive/article-mar-4861.html',\n",
       " 'http://mlg.ucd.ie/modules/COMP41680/archive/article-mar-4279.html',\n",
       " 'http://mlg.ucd.ie/modules/COMP41680/archive/article-mar-4599.html',\n",
       " 'http://mlg.ucd.ie/modules/COMP41680/archive/article-mar-2276.html',\n",
       " 'http://mlg.ucd.ie/modules/COMP41680/archive/article-mar-1739.html',\n",
       " 'http://mlg.ucd.ie/modules/COMP41680/archive/article-mar-4407.html',\n",
       " 'http://mlg.ucd.ie/modules/COMP41680/archive/article-mar-3144.html',\n",
       " 'http://mlg.ucd.ie/modules/COMP41680/archive/article-mar-0182.html',\n",
       " 'http://mlg.ucd.ie/modules/COMP41680/archive/article-mar-2488.html',\n",
       " 'http://mlg.ucd.ie/modules/COMP41680/archive/article-mar-4584.html',\n",
       " 'http://mlg.ucd.ie/modules/COMP41680/archive/article-mar-4102.html',\n",
       " 'http://mlg.ucd.ie/modules/COMP41680/archive/article-mar-3792.html',\n",
       " 'http://mlg.ucd.ie/modules/COMP41680/archive/article-mar-0131.html',\n",
       " 'http://mlg.ucd.ie/modules/COMP41680/archive/article-mar-4398.html',\n",
       " 'http://mlg.ucd.ie/modules/COMP41680/archive/article-mar-0463.html',\n",
       " 'http://mlg.ucd.ie/modules/COMP41680/archive/article-mar-0029.html',\n",
       " 'http://mlg.ucd.ie/modules/COMP41680/archive/article-mar-4749.html',\n",
       " 'http://mlg.ucd.ie/modules/COMP41680/archive/article-mar-3392.html',\n",
       " 'http://mlg.ucd.ie/modules/COMP41680/archive/article-mar-0952.html',\n",
       " 'http://mlg.ucd.ie/modules/COMP41680/archive/article-mar-1203.html',\n",
       " 'http://mlg.ucd.ie/modules/COMP41680/archive/article-mar-2048.html',\n",
       " 'http://mlg.ucd.ie/modules/COMP41680/archive/article-mar-3318.html',\n",
       " 'http://mlg.ucd.ie/modules/COMP41680/archive/article-mar-2788.html',\n",
       " 'http://mlg.ucd.ie/modules/COMP41680/archive/article-mar-4562.html',\n",
       " 'http://mlg.ucd.ie/modules/COMP41680/archive/article-mar-0620.html',\n",
       " 'http://mlg.ucd.ie/modules/COMP41680/archive/article-mar-4001.html',\n",
       " 'http://mlg.ucd.ie/modules/COMP41680/archive/article-mar-1599.html',\n",
       " 'http://mlg.ucd.ie/modules/COMP41680/archive/article-mar-2785.html',\n",
       " 'http://mlg.ucd.ie/modules/COMP41680/archive/article-mar-1454.html',\n",
       " 'http://mlg.ucd.ie/modules/COMP41680/archive/article-mar-1913.html',\n",
       " 'http://mlg.ucd.ie/modules/COMP41680/archive/article-mar-4140.html',\n",
       " 'http://mlg.ucd.ie/modules/COMP41680/archive/article-mar-4357.html',\n",
       " 'http://mlg.ucd.ie/modules/COMP41680/archive/article-mar-4898.html',\n",
       " 'http://mlg.ucd.ie/modules/COMP41680/archive/article-mar-0550.html',\n",
       " 'http://mlg.ucd.ie/modules/COMP41680/archive/article-mar-2508.html',\n",
       " 'http://mlg.ucd.ie/modules/COMP41680/archive/article-mar-2039.html',\n",
       " 'http://mlg.ucd.ie/modules/COMP41680/archive/article-mar-4111.html',\n",
       " 'http://mlg.ucd.ie/modules/COMP41680/archive/article-mar-4582.html',\n",
       " 'http://mlg.ucd.ie/modules/COMP41680/archive/article-mar-3651.html',\n",
       " 'http://mlg.ucd.ie/modules/COMP41680/archive/article-mar-3663.html',\n",
       " 'http://mlg.ucd.ie/modules/COMP41680/archive/article-mar-4500.html',\n",
       " 'http://mlg.ucd.ie/modules/COMP41680/archive/article-mar-1916.html',\n",
       " 'http://mlg.ucd.ie/modules/COMP41680/archive/article-apr-1897.html',\n",
       " 'http://mlg.ucd.ie/modules/COMP41680/archive/article-apr-2967.html',\n",
       " 'http://mlg.ucd.ie/modules/COMP41680/archive/article-apr-2939.html',\n",
       " 'http://mlg.ucd.ie/modules/COMP41680/archive/article-apr-0145.html',\n",
       " 'http://mlg.ucd.ie/modules/COMP41680/archive/article-apr-1938.html',\n",
       " 'http://mlg.ucd.ie/modules/COMP41680/archive/article-apr-1748.html',\n",
       " 'http://mlg.ucd.ie/modules/COMP41680/archive/article-apr-2559.html',\n",
       " 'http://mlg.ucd.ie/modules/COMP41680/archive/article-apr-1306.html',\n",
       " 'http://mlg.ucd.ie/modules/COMP41680/archive/article-apr-2454.html',\n",
       " 'http://mlg.ucd.ie/modules/COMP41680/archive/article-apr-0039.html',\n",
       " 'http://mlg.ucd.ie/modules/COMP41680/archive/article-apr-1044.html',\n",
       " 'http://mlg.ucd.ie/modules/COMP41680/archive/article-apr-2151.html',\n",
       " 'http://mlg.ucd.ie/modules/COMP41680/archive/article-apr-2808.html',\n",
       " 'http://mlg.ucd.ie/modules/COMP41680/archive/article-apr-4324.html',\n",
       " 'http://mlg.ucd.ie/modules/COMP41680/archive/article-apr-2873.html',\n",
       " 'http://mlg.ucd.ie/modules/COMP41680/archive/article-apr-4741.html',\n",
       " 'http://mlg.ucd.ie/modules/COMP41680/archive/article-apr-0433.html',\n",
       " 'http://mlg.ucd.ie/modules/COMP41680/archive/article-apr-4890.html',\n",
       " 'http://mlg.ucd.ie/modules/COMP41680/archive/article-apr-4575.html',\n",
       " 'http://mlg.ucd.ie/modules/COMP41680/archive/article-apr-0228.html',\n",
       " 'http://mlg.ucd.ie/modules/COMP41680/archive/article-apr-4827.html',\n",
       " 'http://mlg.ucd.ie/modules/COMP41680/archive/article-apr-1926.html',\n",
       " 'http://mlg.ucd.ie/modules/COMP41680/archive/article-apr-1571.html',\n",
       " 'http://mlg.ucd.ie/modules/COMP41680/archive/article-apr-1904.html',\n",
       " 'http://mlg.ucd.ie/modules/COMP41680/archive/article-apr-3933.html',\n",
       " 'http://mlg.ucd.ie/modules/COMP41680/archive/article-apr-4960.html',\n",
       " 'http://mlg.ucd.ie/modules/COMP41680/archive/article-apr-4241.html',\n",
       " 'http://mlg.ucd.ie/modules/COMP41680/archive/article-apr-4901.html',\n",
       " 'http://mlg.ucd.ie/modules/COMP41680/archive/article-apr-0724.html',\n",
       " 'http://mlg.ucd.ie/modules/COMP41680/archive/article-apr-4907.html',\n",
       " 'http://mlg.ucd.ie/modules/COMP41680/archive/article-apr-3088.html',\n",
       " 'http://mlg.ucd.ie/modules/COMP41680/archive/article-apr-0395.html',\n",
       " 'http://mlg.ucd.ie/modules/COMP41680/archive/article-apr-4460.html',\n",
       " 'http://mlg.ucd.ie/modules/COMP41680/archive/article-apr-0524.html',\n",
       " 'http://mlg.ucd.ie/modules/COMP41680/archive/article-apr-3536.html',\n",
       " 'http://mlg.ucd.ie/modules/COMP41680/archive/article-apr-4694.html',\n",
       " 'http://mlg.ucd.ie/modules/COMP41680/archive/article-apr-3827.html',\n",
       " 'http://mlg.ucd.ie/modules/COMP41680/archive/article-apr-2270.html',\n",
       " 'http://mlg.ucd.ie/modules/COMP41680/archive/article-apr-0205.html',\n",
       " 'http://mlg.ucd.ie/modules/COMP41680/archive/article-apr-1858.html',\n",
       " 'http://mlg.ucd.ie/modules/COMP41680/archive/article-apr-3390.html',\n",
       " 'http://mlg.ucd.ie/modules/COMP41680/archive/article-apr-3841.html',\n",
       " 'http://mlg.ucd.ie/modules/COMP41680/archive/article-apr-4467.html',\n",
       " 'http://mlg.ucd.ie/modules/COMP41680/archive/article-apr-3842.html',\n",
       " 'http://mlg.ucd.ie/modules/COMP41680/archive/article-apr-3718.html',\n",
       " 'http://mlg.ucd.ie/modules/COMP41680/archive/article-apr-0784.html',\n",
       " 'http://mlg.ucd.ie/modules/COMP41680/archive/article-apr-2677.html',\n",
       " 'http://mlg.ucd.ie/modules/COMP41680/archive/article-apr-3475.html',\n",
       " 'http://mlg.ucd.ie/modules/COMP41680/archive/article-apr-2558.html',\n",
       " 'http://mlg.ucd.ie/modules/COMP41680/archive/article-apr-2706.html',\n",
       " 'http://mlg.ucd.ie/modules/COMP41680/archive/article-apr-4921.html',\n",
       " 'http://mlg.ucd.ie/modules/COMP41680/archive/article-apr-0240.html',\n",
       " 'http://mlg.ucd.ie/modules/COMP41680/archive/article-apr-2106.html',\n",
       " 'http://mlg.ucd.ie/modules/COMP41680/archive/article-apr-0622.html',\n",
       " 'http://mlg.ucd.ie/modules/COMP41680/archive/article-apr-4699.html',\n",
       " 'http://mlg.ucd.ie/modules/COMP41680/archive/article-apr-4622.html',\n",
       " 'http://mlg.ucd.ie/modules/COMP41680/archive/article-apr-2061.html',\n",
       " 'http://mlg.ucd.ie/modules/COMP41680/archive/article-apr-0646.html',\n",
       " 'http://mlg.ucd.ie/modules/COMP41680/archive/article-apr-4064.html',\n",
       " 'http://mlg.ucd.ie/modules/COMP41680/archive/article-apr-4854.html',\n",
       " 'http://mlg.ucd.ie/modules/COMP41680/archive/article-apr-4446.html',\n",
       " 'http://mlg.ucd.ie/modules/COMP41680/archive/article-apr-0150.html',\n",
       " 'http://mlg.ucd.ie/modules/COMP41680/archive/article-apr-3146.html',\n",
       " 'http://mlg.ucd.ie/modules/COMP41680/archive/article-apr-1270.html',\n",
       " 'http://mlg.ucd.ie/modules/COMP41680/archive/article-apr-2879.html',\n",
       " 'http://mlg.ucd.ie/modules/COMP41680/archive/article-apr-1276.html',\n",
       " 'http://mlg.ucd.ie/modules/COMP41680/archive/article-apr-0061.html',\n",
       " 'http://mlg.ucd.ie/modules/COMP41680/archive/article-apr-1620.html',\n",
       " 'http://mlg.ucd.ie/modules/COMP41680/archive/article-apr-2704.html',\n",
       " 'http://mlg.ucd.ie/modules/COMP41680/archive/article-apr-4823.html',\n",
       " 'http://mlg.ucd.ie/modules/COMP41680/archive/article-apr-0564.html',\n",
       " 'http://mlg.ucd.ie/modules/COMP41680/archive/article-apr-0338.html',\n",
       " 'http://mlg.ucd.ie/modules/COMP41680/archive/article-apr-4399.html',\n",
       " 'http://mlg.ucd.ie/modules/COMP41680/archive/article-apr-4686.html',\n",
       " 'http://mlg.ucd.ie/modules/COMP41680/archive/article-apr-2813.html',\n",
       " 'http://mlg.ucd.ie/modules/COMP41680/archive/article-apr-0953.html',\n",
       " 'http://mlg.ucd.ie/modules/COMP41680/archive/article-apr-2019.html',\n",
       " 'http://mlg.ucd.ie/modules/COMP41680/archive/article-apr-0042.html',\n",
       " 'http://mlg.ucd.ie/modules/COMP41680/archive/article-apr-4569.html',\n",
       " 'http://mlg.ucd.ie/modules/COMP41680/archive/article-apr-2560.html',\n",
       " 'http://mlg.ucd.ie/modules/COMP41680/archive/article-apr-1918.html',\n",
       " 'http://mlg.ucd.ie/modules/COMP41680/archive/article-apr-0857.html',\n",
       " 'http://mlg.ucd.ie/modules/COMP41680/archive/article-apr-0028.html',\n",
       " 'http://mlg.ucd.ie/modules/COMP41680/archive/article-apr-1068.html',\n",
       " 'http://mlg.ucd.ie/modules/COMP41680/archive/article-apr-4171.html',\n",
       " 'http://mlg.ucd.ie/modules/COMP41680/archive/article-apr-4618.html',\n",
       " 'http://mlg.ucd.ie/modules/COMP41680/archive/article-apr-1300.html',\n",
       " 'http://mlg.ucd.ie/modules/COMP41680/archive/article-apr-1815.html',\n",
       " 'http://mlg.ucd.ie/modules/COMP41680/archive/article-apr-3833.html',\n",
       " 'http://mlg.ucd.ie/modules/COMP41680/archive/article-apr-1205.html',\n",
       " 'http://mlg.ucd.ie/modules/COMP41680/archive/article-apr-3471.html',\n",
       " 'http://mlg.ucd.ie/modules/COMP41680/archive/article-apr-4435.html',\n",
       " 'http://mlg.ucd.ie/modules/COMP41680/archive/article-apr-0484.html',\n",
       " 'http://mlg.ucd.ie/modules/COMP41680/archive/article-apr-1009.html',\n",
       " 'http://mlg.ucd.ie/modules/COMP41680/archive/article-apr-0361.html',\n",
       " 'http://mlg.ucd.ie/modules/COMP41680/archive/article-apr-4474.html',\n",
       " 'http://mlg.ucd.ie/modules/COMP41680/archive/article-apr-3423.html',\n",
       " 'http://mlg.ucd.ie/modules/COMP41680/archive/article-apr-3100.html',\n",
       " 'http://mlg.ucd.ie/modules/COMP41680/archive/article-apr-0865.html',\n",
       " 'http://mlg.ucd.ie/modules/COMP41680/archive/article-apr-0134.html',\n",
       " 'http://mlg.ucd.ie/modules/COMP41680/archive/article-apr-2219.html',\n",
       " 'http://mlg.ucd.ie/modules/COMP41680/archive/article-apr-0182.html',\n",
       " 'http://mlg.ucd.ie/modules/COMP41680/archive/article-apr-4228.html',\n",
       " 'http://mlg.ucd.ie/modules/COMP41680/archive/article-apr-3753.html',\n",
       " 'http://mlg.ucd.ie/modules/COMP41680/archive/article-apr-2040.html',\n",
       " 'http://mlg.ucd.ie/modules/COMP41680/archive/article-apr-4036.html',\n",
       " 'http://mlg.ucd.ie/modules/COMP41680/archive/article-apr-4395.html',\n",
       " 'http://mlg.ucd.ie/modules/COMP41680/archive/article-apr-4277.html',\n",
       " 'http://mlg.ucd.ie/modules/COMP41680/archive/article-apr-1102.html',\n",
       " 'http://mlg.ucd.ie/modules/COMP41680/archive/article-apr-3992.html',\n",
       " 'http://mlg.ucd.ie/modules/COMP41680/archive/article-apr-3250.html',\n",
       " 'http://mlg.ucd.ie/modules/COMP41680/archive/article-apr-4031.html',\n",
       " 'http://mlg.ucd.ie/modules/COMP41680/archive/article-apr-0896.html',\n",
       " 'http://mlg.ucd.ie/modules/COMP41680/archive/article-apr-3567.html',\n",
       " 'http://mlg.ucd.ie/modules/COMP41680/archive/article-apr-3586.html',\n",
       " 'http://mlg.ucd.ie/modules/COMP41680/archive/article-apr-4951.html',\n",
       " 'http://mlg.ucd.ie/modules/COMP41680/archive/article-apr-0345.html',\n",
       " 'http://mlg.ucd.ie/modules/COMP41680/archive/article-may-0284.html',\n",
       " 'http://mlg.ucd.ie/modules/COMP41680/archive/article-may-3980.html',\n",
       " 'http://mlg.ucd.ie/modules/COMP41680/archive/article-may-2027.html',\n",
       " 'http://mlg.ucd.ie/modules/COMP41680/archive/article-may-2024.html',\n",
       " 'http://mlg.ucd.ie/modules/COMP41680/archive/article-may-2738.html',\n",
       " 'http://mlg.ucd.ie/modules/COMP41680/archive/article-may-4424.html',\n",
       " 'http://mlg.ucd.ie/modules/COMP41680/archive/article-may-2659.html',\n",
       " 'http://mlg.ucd.ie/modules/COMP41680/archive/article-may-4512.html',\n",
       " 'http://mlg.ucd.ie/modules/COMP41680/archive/article-may-0131.html',\n",
       " 'http://mlg.ucd.ie/modules/COMP41680/archive/article-may-2874.html',\n",
       " 'http://mlg.ucd.ie/modules/COMP41680/archive/article-may-2905.html',\n",
       " 'http://mlg.ucd.ie/modules/COMP41680/archive/article-may-1663.html',\n",
       " 'http://mlg.ucd.ie/modules/COMP41680/archive/article-may-1702.html',\n",
       " 'http://mlg.ucd.ie/modules/COMP41680/archive/article-may-4777.html',\n",
       " 'http://mlg.ucd.ie/modules/COMP41680/archive/article-may-2166.html',\n",
       " 'http://mlg.ucd.ie/modules/COMP41680/archive/article-may-1662.html',\n",
       " 'http://mlg.ucd.ie/modules/COMP41680/archive/article-may-1837.html',\n",
       " 'http://mlg.ucd.ie/modules/COMP41680/archive/article-may-1887.html',\n",
       " 'http://mlg.ucd.ie/modules/COMP41680/archive/article-may-3273.html',\n",
       " 'http://mlg.ucd.ie/modules/COMP41680/archive/article-may-2294.html',\n",
       " 'http://mlg.ucd.ie/modules/COMP41680/archive/article-may-3257.html',\n",
       " 'http://mlg.ucd.ie/modules/COMP41680/archive/article-may-2723.html',\n",
       " 'http://mlg.ucd.ie/modules/COMP41680/archive/article-may-1549.html',\n",
       " 'http://mlg.ucd.ie/modules/COMP41680/archive/article-may-0149.html',\n",
       " 'http://mlg.ucd.ie/modules/COMP41680/archive/article-may-2122.html',\n",
       " 'http://mlg.ucd.ie/modules/COMP41680/archive/article-may-4336.html',\n",
       " 'http://mlg.ucd.ie/modules/COMP41680/archive/article-may-0706.html',\n",
       " 'http://mlg.ucd.ie/modules/COMP41680/archive/article-may-0573.html',\n",
       " 'http://mlg.ucd.ie/modules/COMP41680/archive/article-may-2915.html',\n",
       " 'http://mlg.ucd.ie/modules/COMP41680/archive/article-may-1785.html',\n",
       " 'http://mlg.ucd.ie/modules/COMP41680/archive/article-may-1306.html',\n",
       " 'http://mlg.ucd.ie/modules/COMP41680/archive/article-may-2222.html',\n",
       " 'http://mlg.ucd.ie/modules/COMP41680/archive/article-may-1674.html',\n",
       " 'http://mlg.ucd.ie/modules/COMP41680/archive/article-may-3633.html',\n",
       " 'http://mlg.ucd.ie/modules/COMP41680/archive/article-may-3723.html',\n",
       " 'http://mlg.ucd.ie/modules/COMP41680/archive/article-may-2499.html',\n",
       " 'http://mlg.ucd.ie/modules/COMP41680/archive/article-may-2400.html',\n",
       " 'http://mlg.ucd.ie/modules/COMP41680/archive/article-may-2476.html',\n",
       " 'http://mlg.ucd.ie/modules/COMP41680/archive/article-may-2112.html',\n",
       " 'http://mlg.ucd.ie/modules/COMP41680/archive/article-may-2581.html',\n",
       " 'http://mlg.ucd.ie/modules/COMP41680/archive/article-may-2727.html',\n",
       " 'http://mlg.ucd.ie/modules/COMP41680/archive/article-may-0713.html',\n",
       " 'http://mlg.ucd.ie/modules/COMP41680/archive/article-may-4324.html',\n",
       " 'http://mlg.ucd.ie/modules/COMP41680/archive/article-may-4280.html',\n",
       " 'http://mlg.ucd.ie/modules/COMP41680/archive/article-may-0143.html',\n",
       " 'http://mlg.ucd.ie/modules/COMP41680/archive/article-may-2440.html',\n",
       " 'http://mlg.ucd.ie/modules/COMP41680/archive/article-may-1036.html',\n",
       " 'http://mlg.ucd.ie/modules/COMP41680/archive/article-may-0966.html',\n",
       " 'http://mlg.ucd.ie/modules/COMP41680/archive/article-may-4655.html',\n",
       " 'http://mlg.ucd.ie/modules/COMP41680/archive/article-may-2796.html',\n",
       " 'http://mlg.ucd.ie/modules/COMP41680/archive/article-may-0305.html',\n",
       " 'http://mlg.ucd.ie/modules/COMP41680/archive/article-may-2491.html',\n",
       " 'http://mlg.ucd.ie/modules/COMP41680/archive/article-may-2781.html',\n",
       " 'http://mlg.ucd.ie/modules/COMP41680/archive/article-may-1795.html',\n",
       " 'http://mlg.ucd.ie/modules/COMP41680/archive/article-may-0332.html',\n",
       " 'http://mlg.ucd.ie/modules/COMP41680/archive/article-may-4014.html',\n",
       " 'http://mlg.ucd.ie/modules/COMP41680/archive/article-may-4886.html',\n",
       " 'http://mlg.ucd.ie/modules/COMP41680/archive/article-may-4104.html',\n",
       " 'http://mlg.ucd.ie/modules/COMP41680/archive/article-may-1112.html',\n",
       " 'http://mlg.ucd.ie/modules/COMP41680/archive/article-may-0180.html',\n",
       " 'http://mlg.ucd.ie/modules/COMP41680/archive/article-may-1740.html',\n",
       " 'http://mlg.ucd.ie/modules/COMP41680/archive/article-may-4133.html',\n",
       " 'http://mlg.ucd.ie/modules/COMP41680/archive/article-may-0916.html',\n",
       " 'http://mlg.ucd.ie/modules/COMP41680/archive/article-may-3761.html',\n",
       " 'http://mlg.ucd.ie/modules/COMP41680/archive/article-may-4517.html',\n",
       " 'http://mlg.ucd.ie/modules/COMP41680/archive/article-may-1326.html',\n",
       " 'http://mlg.ucd.ie/modules/COMP41680/archive/article-may-0373.html',\n",
       " 'http://mlg.ucd.ie/modules/COMP41680/archive/article-may-4484.html',\n",
       " 'http://mlg.ucd.ie/modules/COMP41680/archive/article-may-4229.html',\n",
       " 'http://mlg.ucd.ie/modules/COMP41680/archive/article-may-4474.html',\n",
       " 'http://mlg.ucd.ie/modules/COMP41680/archive/article-may-1687.html',\n",
       " 'http://mlg.ucd.ie/modules/COMP41680/archive/article-may-1905.html',\n",
       " 'http://mlg.ucd.ie/modules/COMP41680/archive/article-may-2611.html',\n",
       " 'http://mlg.ucd.ie/modules/COMP41680/archive/article-may-4895.html',\n",
       " 'http://mlg.ucd.ie/modules/COMP41680/archive/article-may-0016.html',\n",
       " 'http://mlg.ucd.ie/modules/COMP41680/archive/article-may-1238.html',\n",
       " 'http://mlg.ucd.ie/modules/COMP41680/archive/article-may-1947.html',\n",
       " 'http://mlg.ucd.ie/modules/COMP41680/archive/article-may-2512.html',\n",
       " 'http://mlg.ucd.ie/modules/COMP41680/archive/article-may-1598.html',\n",
       " 'http://mlg.ucd.ie/modules/COMP41680/archive/article-may-4585.html',\n",
       " 'http://mlg.ucd.ie/modules/COMP41680/archive/article-may-4874.html',\n",
       " 'http://mlg.ucd.ie/modules/COMP41680/archive/article-may-0488.html',\n",
       " 'http://mlg.ucd.ie/modules/COMP41680/archive/article-may-0292.html',\n",
       " 'http://mlg.ucd.ie/modules/COMP41680/archive/article-may-3235.html',\n",
       " 'http://mlg.ucd.ie/modules/COMP41680/archive/article-may-1464.html',\n",
       " 'http://mlg.ucd.ie/modules/COMP41680/archive/article-may-2443.html',\n",
       " 'http://mlg.ucd.ie/modules/COMP41680/archive/article-may-2260.html',\n",
       " 'http://mlg.ucd.ie/modules/COMP41680/archive/article-may-3908.html',\n",
       " 'http://mlg.ucd.ie/modules/COMP41680/archive/article-may-2514.html',\n",
       " 'http://mlg.ucd.ie/modules/COMP41680/archive/article-may-0985.html',\n",
       " 'http://mlg.ucd.ie/modules/COMP41680/archive/article-may-3855.html',\n",
       " 'http://mlg.ucd.ie/modules/COMP41680/archive/article-may-0057.html',\n",
       " 'http://mlg.ucd.ie/modules/COMP41680/archive/article-may-0549.html',\n",
       " 'http://mlg.ucd.ie/modules/COMP41680/archive/article-may-0738.html',\n",
       " 'http://mlg.ucd.ie/modules/COMP41680/archive/article-may-1288.html',\n",
       " 'http://mlg.ucd.ie/modules/COMP41680/archive/article-may-2467.html',\n",
       " 'http://mlg.ucd.ie/modules/COMP41680/archive/article-may-2263.html',\n",
       " 'http://mlg.ucd.ie/modules/COMP41680/archive/article-may-0648.html',\n",
       " 'http://mlg.ucd.ie/modules/COMP41680/archive/article-may-3222.html',\n",
       " 'http://mlg.ucd.ie/modules/COMP41680/archive/article-may-1355.html',\n",
       " 'http://mlg.ucd.ie/modules/COMP41680/archive/article-may-3184.html',\n",
       " 'http://mlg.ucd.ie/modules/COMP41680/archive/article-may-2365.html',\n",
       " 'http://mlg.ucd.ie/modules/COMP41680/archive/article-may-0720.html',\n",
       " 'http://mlg.ucd.ie/modules/COMP41680/archive/article-may-3287.html',\n",
       " 'http://mlg.ucd.ie/modules/COMP41680/archive/article-may-2299.html',\n",
       " 'http://mlg.ucd.ie/modules/COMP41680/archive/article-may-0748.html',\n",
       " 'http://mlg.ucd.ie/modules/COMP41680/archive/article-may-4097.html',\n",
       " 'http://mlg.ucd.ie/modules/COMP41680/archive/article-may-2131.html',\n",
       " 'http://mlg.ucd.ie/modules/COMP41680/archive/article-may-3461.html',\n",
       " 'http://mlg.ucd.ie/modules/COMP41680/archive/article-may-4326.html',\n",
       " 'http://mlg.ucd.ie/modules/COMP41680/archive/article-may-2814.html',\n",
       " 'http://mlg.ucd.ie/modules/COMP41680/archive/article-may-2271.html',\n",
       " 'http://mlg.ucd.ie/modules/COMP41680/archive/article-may-3619.html',\n",
       " 'http://mlg.ucd.ie/modules/COMP41680/archive/article-may-0996.html',\n",
       " 'http://mlg.ucd.ie/modules/COMP41680/archive/article-jun-1972.html',\n",
       " 'http://mlg.ucd.ie/modules/COMP41680/archive/article-jun-1987.html',\n",
       " 'http://mlg.ucd.ie/modules/COMP41680/archive/article-jun-0716.html',\n",
       " 'http://mlg.ucd.ie/modules/COMP41680/archive/article-jun-2935.html',\n",
       " 'http://mlg.ucd.ie/modules/COMP41680/archive/article-jun-4840.html',\n",
       " 'http://mlg.ucd.ie/modules/COMP41680/archive/article-jun-4479.html',\n",
       " 'http://mlg.ucd.ie/modules/COMP41680/archive/article-jun-1568.html',\n",
       " 'http://mlg.ucd.ie/modules/COMP41680/archive/article-jun-1579.html',\n",
       " 'http://mlg.ucd.ie/modules/COMP41680/archive/article-jun-3219.html',\n",
       " 'http://mlg.ucd.ie/modules/COMP41680/archive/article-jun-1778.html',\n",
       " 'http://mlg.ucd.ie/modules/COMP41680/archive/article-jun-1644.html',\n",
       " 'http://mlg.ucd.ie/modules/COMP41680/archive/article-jun-2609.html',\n",
       " 'http://mlg.ucd.ie/modules/COMP41680/archive/article-jun-1346.html',\n",
       " 'http://mlg.ucd.ie/modules/COMP41680/archive/article-jun-3633.html',\n",
       " 'http://mlg.ucd.ie/modules/COMP41680/archive/article-jun-3298.html',\n",
       " 'http://mlg.ucd.ie/modules/COMP41680/archive/article-jun-3624.html',\n",
       " 'http://mlg.ucd.ie/modules/COMP41680/archive/article-jun-0532.html',\n",
       " 'http://mlg.ucd.ie/modules/COMP41680/archive/article-jun-2071.html',\n",
       " 'http://mlg.ucd.ie/modules/COMP41680/archive/article-jun-1491.html',\n",
       " 'http://mlg.ucd.ie/modules/COMP41680/archive/article-jun-1294.html',\n",
       " 'http://mlg.ucd.ie/modules/COMP41680/archive/article-jun-1801.html',\n",
       " 'http://mlg.ucd.ie/modules/COMP41680/archive/article-jun-4596.html',\n",
       " 'http://mlg.ucd.ie/modules/COMP41680/archive/article-jun-4483.html',\n",
       " 'http://mlg.ucd.ie/modules/COMP41680/archive/article-jun-0384.html',\n",
       " 'http://mlg.ucd.ie/modules/COMP41680/archive/article-jun-3025.html',\n",
       " 'http://mlg.ucd.ie/modules/COMP41680/archive/article-jun-3207.html',\n",
       " 'http://mlg.ucd.ie/modules/COMP41680/archive/article-jun-3422.html',\n",
       " 'http://mlg.ucd.ie/modules/COMP41680/archive/article-jun-3285.html',\n",
       " 'http://mlg.ucd.ie/modules/COMP41680/archive/article-jun-1131.html',\n",
       " 'http://mlg.ucd.ie/modules/COMP41680/archive/article-jun-4266.html',\n",
       " 'http://mlg.ucd.ie/modules/COMP41680/archive/article-jun-4362.html',\n",
       " 'http://mlg.ucd.ie/modules/COMP41680/archive/article-jun-0537.html',\n",
       " 'http://mlg.ucd.ie/modules/COMP41680/archive/article-jun-1448.html',\n",
       " 'http://mlg.ucd.ie/modules/COMP41680/archive/article-jun-4007.html',\n",
       " 'http://mlg.ucd.ie/modules/COMP41680/archive/article-jun-3887.html',\n",
       " 'http://mlg.ucd.ie/modules/COMP41680/archive/article-jun-3406.html',\n",
       " 'http://mlg.ucd.ie/modules/COMP41680/archive/article-jun-2920.html',\n",
       " 'http://mlg.ucd.ie/modules/COMP41680/archive/article-jun-2699.html',\n",
       " 'http://mlg.ucd.ie/modules/COMP41680/archive/article-jun-0332.html',\n",
       " 'http://mlg.ucd.ie/modules/COMP41680/archive/article-jun-4500.html',\n",
       " 'http://mlg.ucd.ie/modules/COMP41680/archive/article-jun-1482.html',\n",
       " 'http://mlg.ucd.ie/modules/COMP41680/archive/article-jun-0787.html',\n",
       " 'http://mlg.ucd.ie/modules/COMP41680/archive/article-jun-2022.html',\n",
       " 'http://mlg.ucd.ie/modules/COMP41680/archive/article-jun-3687.html',\n",
       " 'http://mlg.ucd.ie/modules/COMP41680/archive/article-jun-3700.html',\n",
       " 'http://mlg.ucd.ie/modules/COMP41680/archive/article-jun-3528.html',\n",
       " 'http://mlg.ucd.ie/modules/COMP41680/archive/article-jun-2557.html',\n",
       " 'http://mlg.ucd.ie/modules/COMP41680/archive/article-jun-2381.html',\n",
       " 'http://mlg.ucd.ie/modules/COMP41680/archive/article-jun-1633.html',\n",
       " 'http://mlg.ucd.ie/modules/COMP41680/archive/article-jun-4342.html',\n",
       " 'http://mlg.ucd.ie/modules/COMP41680/archive/article-jun-4535.html',\n",
       " 'http://mlg.ucd.ie/modules/COMP41680/archive/article-jun-1155.html',\n",
       " 'http://mlg.ucd.ie/modules/COMP41680/archive/article-jun-0553.html',\n",
       " 'http://mlg.ucd.ie/modules/COMP41680/archive/article-jun-1387.html',\n",
       " 'http://mlg.ucd.ie/modules/COMP41680/archive/article-jun-2401.html',\n",
       " 'http://mlg.ucd.ie/modules/COMP41680/archive/article-jun-4329.html',\n",
       " 'http://mlg.ucd.ie/modules/COMP41680/archive/article-jun-1532.html',\n",
       " 'http://mlg.ucd.ie/modules/COMP41680/archive/article-jun-1434.html',\n",
       " 'http://mlg.ucd.ie/modules/COMP41680/archive/article-jun-2521.html',\n",
       " 'http://mlg.ucd.ie/modules/COMP41680/archive/article-jun-2097.html',\n",
       " 'http://mlg.ucd.ie/modules/COMP41680/archive/article-jun-2226.html',\n",
       " 'http://mlg.ucd.ie/modules/COMP41680/archive/article-jun-4453.html',\n",
       " 'http://mlg.ucd.ie/modules/COMP41680/archive/article-jun-4509.html',\n",
       " 'http://mlg.ucd.ie/modules/COMP41680/archive/article-jun-2467.html',\n",
       " 'http://mlg.ucd.ie/modules/COMP41680/archive/article-jun-1038.html',\n",
       " 'http://mlg.ucd.ie/modules/COMP41680/archive/article-jun-2420.html',\n",
       " 'http://mlg.ucd.ie/modules/COMP41680/archive/article-jun-4994.html',\n",
       " 'http://mlg.ucd.ie/modules/COMP41680/archive/article-jun-3434.html',\n",
       " 'http://mlg.ucd.ie/modules/COMP41680/archive/article-jun-4410.html',\n",
       " 'http://mlg.ucd.ie/modules/COMP41680/archive/article-jun-0925.html',\n",
       " 'http://mlg.ucd.ie/modules/COMP41680/archive/article-jun-1788.html',\n",
       " 'http://mlg.ucd.ie/modules/COMP41680/archive/article-jun-0749.html',\n",
       " 'http://mlg.ucd.ie/modules/COMP41680/archive/article-jun-4657.html',\n",
       " 'http://mlg.ucd.ie/modules/COMP41680/archive/article-jun-2787.html',\n",
       " 'http://mlg.ucd.ie/modules/COMP41680/archive/article-jun-2319.html',\n",
       " 'http://mlg.ucd.ie/modules/COMP41680/archive/article-jun-1141.html',\n",
       " 'http://mlg.ucd.ie/modules/COMP41680/archive/article-jun-4805.html',\n",
       " 'http://mlg.ucd.ie/modules/COMP41680/archive/article-jun-0101.html',\n",
       " 'http://mlg.ucd.ie/modules/COMP41680/archive/article-jun-4636.html',\n",
       " 'http://mlg.ucd.ie/modules/COMP41680/archive/article-jun-1885.html',\n",
       " 'http://mlg.ucd.ie/modules/COMP41680/archive/article-jun-1112.html',\n",
       " 'http://mlg.ucd.ie/modules/COMP41680/archive/article-jun-4470.html',\n",
       " 'http://mlg.ucd.ie/modules/COMP41680/archive/article-jun-3966.html',\n",
       " 'http://mlg.ucd.ie/modules/COMP41680/archive/article-jun-1668.html',\n",
       " 'http://mlg.ucd.ie/modules/COMP41680/archive/article-jun-1940.html',\n",
       " 'http://mlg.ucd.ie/modules/COMP41680/archive/article-jun-0693.html',\n",
       " 'http://mlg.ucd.ie/modules/COMP41680/archive/article-jun-0583.html',\n",
       " 'http://mlg.ucd.ie/modules/COMP41680/archive/article-jun-4042.html',\n",
       " 'http://mlg.ucd.ie/modules/COMP41680/archive/article-jun-1150.html',\n",
       " 'http://mlg.ucd.ie/modules/COMP41680/archive/article-jun-0829.html',\n",
       " 'http://mlg.ucd.ie/modules/COMP41680/archive/article-jun-4361.html',\n",
       " 'http://mlg.ucd.ie/modules/COMP41680/archive/article-jun-2660.html',\n",
       " 'http://mlg.ucd.ie/modules/COMP41680/archive/article-jun-3293.html',\n",
       " 'http://mlg.ucd.ie/modules/COMP41680/archive/article-jun-4523.html',\n",
       " 'http://mlg.ucd.ie/modules/COMP41680/archive/article-jun-2536.html',\n",
       " 'http://mlg.ucd.ie/modules/COMP41680/archive/article-jun-0684.html',\n",
       " 'http://mlg.ucd.ie/modules/COMP41680/archive/article-jun-3126.html',\n",
       " 'http://mlg.ucd.ie/modules/COMP41680/archive/article-jun-1396.html',\n",
       " 'http://mlg.ucd.ie/modules/COMP41680/archive/article-jun-3380.html',\n",
       " 'http://mlg.ucd.ie/modules/COMP41680/archive/article-jun-3599.html',\n",
       " 'http://mlg.ucd.ie/modules/COMP41680/archive/article-jun-0780.html',\n",
       " 'http://mlg.ucd.ie/modules/COMP41680/archive/article-jun-0505.html',\n",
       " 'http://mlg.ucd.ie/modules/COMP41680/archive/article-jun-2320.html',\n",
       " 'http://mlg.ucd.ie/modules/COMP41680/archive/article-jun-3360.html',\n",
       " 'http://mlg.ucd.ie/modules/COMP41680/archive/article-jun-1094.html',\n",
       " 'http://mlg.ucd.ie/modules/COMP41680/archive/article-jun-2505.html',\n",
       " 'http://mlg.ucd.ie/modules/COMP41680/archive/article-jun-2405.html',\n",
       " 'http://mlg.ucd.ie/modules/COMP41680/archive/article-jun-4106.html',\n",
       " 'http://mlg.ucd.ie/modules/COMP41680/archive/article-jun-0039.html',\n",
       " 'http://mlg.ucd.ie/modules/COMP41680/archive/article-jun-2519.html',\n",
       " 'http://mlg.ucd.ie/modules/COMP41680/archive/article-jun-1446.html',\n",
       " 'http://mlg.ucd.ie/modules/COMP41680/archive/article-jun-1293.html',\n",
       " 'http://mlg.ucd.ie/modules/COMP41680/archive/article-jun-4259.html',\n",
       " 'http://mlg.ucd.ie/modules/COMP41680/archive/article-jun-4520.html',\n",
       " 'http://mlg.ucd.ie/modules/COMP41680/archive/article-jul-1745.html',\n",
       " 'http://mlg.ucd.ie/modules/COMP41680/archive/article-jul-0465.html',\n",
       " 'http://mlg.ucd.ie/modules/COMP41680/archive/article-jul-4512.html',\n",
       " 'http://mlg.ucd.ie/modules/COMP41680/archive/article-jul-2758.html',\n",
       " 'http://mlg.ucd.ie/modules/COMP41680/archive/article-jul-4068.html',\n",
       " 'http://mlg.ucd.ie/modules/COMP41680/archive/article-jul-1257.html',\n",
       " 'http://mlg.ucd.ie/modules/COMP41680/archive/article-jul-2965.html',\n",
       " 'http://mlg.ucd.ie/modules/COMP41680/archive/article-jul-2977.html',\n",
       " 'http://mlg.ucd.ie/modules/COMP41680/archive/article-jul-0794.html',\n",
       " 'http://mlg.ucd.ie/modules/COMP41680/archive/article-jul-0495.html',\n",
       " 'http://mlg.ucd.ie/modules/COMP41680/archive/article-jul-2215.html',\n",
       " 'http://mlg.ucd.ie/modules/COMP41680/archive/article-jul-4187.html',\n",
       " 'http://mlg.ucd.ie/modules/COMP41680/archive/article-jul-3607.html',\n",
       " 'http://mlg.ucd.ie/modules/COMP41680/archive/article-jul-3406.html',\n",
       " 'http://mlg.ucd.ie/modules/COMP41680/archive/article-jul-4480.html',\n",
       " 'http://mlg.ucd.ie/modules/COMP41680/archive/article-jul-4575.html',\n",
       " 'http://mlg.ucd.ie/modules/COMP41680/archive/article-jul-2829.html',\n",
       " 'http://mlg.ucd.ie/modules/COMP41680/archive/article-jul-4356.html',\n",
       " 'http://mlg.ucd.ie/modules/COMP41680/archive/article-jul-3487.html',\n",
       " 'http://mlg.ucd.ie/modules/COMP41680/archive/article-jul-3941.html',\n",
       " 'http://mlg.ucd.ie/modules/COMP41680/archive/article-jul-4527.html',\n",
       " 'http://mlg.ucd.ie/modules/COMP41680/archive/article-jul-3516.html',\n",
       " 'http://mlg.ucd.ie/modules/COMP41680/archive/article-jul-0165.html',\n",
       " 'http://mlg.ucd.ie/modules/COMP41680/archive/article-jul-2340.html',\n",
       " 'http://mlg.ucd.ie/modules/COMP41680/archive/article-jul-4614.html',\n",
       " 'http://mlg.ucd.ie/modules/COMP41680/archive/article-jul-2009.html',\n",
       " 'http://mlg.ucd.ie/modules/COMP41680/archive/article-jul-2742.html',\n",
       " 'http://mlg.ucd.ie/modules/COMP41680/archive/article-jul-3010.html',\n",
       " 'http://mlg.ucd.ie/modules/COMP41680/archive/article-jul-4101.html',\n",
       " 'http://mlg.ucd.ie/modules/COMP41680/archive/article-jul-2708.html',\n",
       " 'http://mlg.ucd.ie/modules/COMP41680/archive/article-jul-4268.html',\n",
       " 'http://mlg.ucd.ie/modules/COMP41680/archive/article-jul-4019.html',\n",
       " 'http://mlg.ucd.ie/modules/COMP41680/archive/article-jul-1748.html',\n",
       " 'http://mlg.ucd.ie/modules/COMP41680/archive/article-jul-1249.html',\n",
       " 'http://mlg.ucd.ie/modules/COMP41680/archive/article-jul-4170.html',\n",
       " 'http://mlg.ucd.ie/modules/COMP41680/archive/article-jul-2162.html',\n",
       " 'http://mlg.ucd.ie/modules/COMP41680/archive/article-jul-0339.html',\n",
       " 'http://mlg.ucd.ie/modules/COMP41680/archive/article-jul-2286.html',\n",
       " 'http://mlg.ucd.ie/modules/COMP41680/archive/article-jul-2988.html',\n",
       " 'http://mlg.ucd.ie/modules/COMP41680/archive/article-jul-4021.html',\n",
       " 'http://mlg.ucd.ie/modules/COMP41680/archive/article-jul-4373.html',\n",
       " 'http://mlg.ucd.ie/modules/COMP41680/archive/article-jul-4895.html',\n",
       " 'http://mlg.ucd.ie/modules/COMP41680/archive/article-jul-4326.html',\n",
       " 'http://mlg.ucd.ie/modules/COMP41680/archive/article-jul-0662.html',\n",
       " 'http://mlg.ucd.ie/modules/COMP41680/archive/article-jul-2558.html',\n",
       " 'http://mlg.ucd.ie/modules/COMP41680/archive/article-jul-3455.html',\n",
       " 'http://mlg.ucd.ie/modules/COMP41680/archive/article-jul-4969.html',\n",
       " 'http://mlg.ucd.ie/modules/COMP41680/archive/article-jul-3422.html',\n",
       " 'http://mlg.ucd.ie/modules/COMP41680/archive/article-jul-1711.html',\n",
       " 'http://mlg.ucd.ie/modules/COMP41680/archive/article-jul-2063.html',\n",
       " 'http://mlg.ucd.ie/modules/COMP41680/archive/article-jul-2960.html',\n",
       " 'http://mlg.ucd.ie/modules/COMP41680/archive/article-jul-4915.html',\n",
       " 'http://mlg.ucd.ie/modules/COMP41680/archive/article-jul-4812.html',\n",
       " 'http://mlg.ucd.ie/modules/COMP41680/archive/article-jul-3520.html',\n",
       " 'http://mlg.ucd.ie/modules/COMP41680/archive/article-jul-0643.html',\n",
       " 'http://mlg.ucd.ie/modules/COMP41680/archive/article-jul-3273.html',\n",
       " 'http://mlg.ucd.ie/modules/COMP41680/archive/article-jul-3870.html',\n",
       " 'http://mlg.ucd.ie/modules/COMP41680/archive/article-jul-0803.html',\n",
       " 'http://mlg.ucd.ie/modules/COMP41680/archive/article-jul-4157.html',\n",
       " 'http://mlg.ucd.ie/modules/COMP41680/archive/article-jul-0297.html',\n",
       " 'http://mlg.ucd.ie/modules/COMP41680/archive/article-jul-4908.html',\n",
       " 'http://mlg.ucd.ie/modules/COMP41680/archive/article-jul-1013.html',\n",
       " 'http://mlg.ucd.ie/modules/COMP41680/archive/article-jul-4496.html',\n",
       " 'http://mlg.ucd.ie/modules/COMP41680/archive/article-jul-3168.html',\n",
       " 'http://mlg.ucd.ie/modules/COMP41680/archive/article-jul-4242.html',\n",
       " 'http://mlg.ucd.ie/modules/COMP41680/archive/article-jul-2527.html',\n",
       " 'http://mlg.ucd.ie/modules/COMP41680/archive/article-jul-1760.html',\n",
       " 'http://mlg.ucd.ie/modules/COMP41680/archive/article-jul-4400.html',\n",
       " 'http://mlg.ucd.ie/modules/COMP41680/archive/article-jul-4827.html',\n",
       " 'http://mlg.ucd.ie/modules/COMP41680/archive/article-jul-4341.html',\n",
       " 'http://mlg.ucd.ie/modules/COMP41680/archive/article-jul-3525.html',\n",
       " 'http://mlg.ucd.ie/modules/COMP41680/archive/article-jul-2544.html',\n",
       " 'http://mlg.ucd.ie/modules/COMP41680/archive/article-jul-0637.html',\n",
       " 'http://mlg.ucd.ie/modules/COMP41680/archive/article-jul-4798.html',\n",
       " 'http://mlg.ucd.ie/modules/COMP41680/archive/article-jul-2909.html',\n",
       " 'http://mlg.ucd.ie/modules/COMP41680/archive/article-jul-2815.html',\n",
       " 'http://mlg.ucd.ie/modules/COMP41680/archive/article-jul-4628.html',\n",
       " 'http://mlg.ucd.ie/modules/COMP41680/archive/article-jul-1361.html',\n",
       " 'http://mlg.ucd.ie/modules/COMP41680/archive/article-jul-0597.html',\n",
       " 'http://mlg.ucd.ie/modules/COMP41680/archive/article-jul-2241.html',\n",
       " 'http://mlg.ucd.ie/modules/COMP41680/archive/article-jul-1728.html',\n",
       " 'http://mlg.ucd.ie/modules/COMP41680/archive/article-jul-1219.html',\n",
       " 'http://mlg.ucd.ie/modules/COMP41680/archive/article-jul-4829.html',\n",
       " 'http://mlg.ucd.ie/modules/COMP41680/archive/article-jul-1320.html',\n",
       " 'http://mlg.ucd.ie/modules/COMP41680/archive/article-jul-2463.html',\n",
       " 'http://mlg.ucd.ie/modules/COMP41680/archive/article-jul-3438.html',\n",
       " 'http://mlg.ucd.ie/modules/COMP41680/archive/article-jul-4719.html',\n",
       " 'http://mlg.ucd.ie/modules/COMP41680/archive/article-jul-3289.html',\n",
       " 'http://mlg.ucd.ie/modules/COMP41680/archive/article-jul-2439.html',\n",
       " 'http://mlg.ucd.ie/modules/COMP41680/archive/article-jul-3943.html',\n",
       " 'http://mlg.ucd.ie/modules/COMP41680/archive/article-jul-3331.html',\n",
       " 'http://mlg.ucd.ie/modules/COMP41680/archive/article-jul-3957.html',\n",
       " 'http://mlg.ucd.ie/modules/COMP41680/archive/article-jul-0733.html',\n",
       " 'http://mlg.ucd.ie/modules/COMP41680/archive/article-jul-0168.html',\n",
       " 'http://mlg.ucd.ie/modules/COMP41680/archive/article-jul-2667.html',\n",
       " 'http://mlg.ucd.ie/modules/COMP41680/archive/article-jul-4244.html',\n",
       " 'http://mlg.ucd.ie/modules/COMP41680/archive/article-jul-0334.html',\n",
       " 'http://mlg.ucd.ie/modules/COMP41680/archive/article-jul-0645.html',\n",
       " 'http://mlg.ucd.ie/modules/COMP41680/archive/article-jul-3380.html',\n",
       " 'http://mlg.ucd.ie/modules/COMP41680/archive/article-jul-0019.html',\n",
       " 'http://mlg.ucd.ie/modules/COMP41680/archive/article-jul-4790.html',\n",
       " 'http://mlg.ucd.ie/modules/COMP41680/archive/article-jul-4384.html',\n",
       " 'http://mlg.ucd.ie/modules/COMP41680/archive/article-jul-3522.html',\n",
       " 'http://mlg.ucd.ie/modules/COMP41680/archive/article-jul-1717.html',\n",
       " 'http://mlg.ucd.ie/modules/COMP41680/archive/article-jul-1112.html',\n",
       " 'http://mlg.ucd.ie/modules/COMP41680/archive/article-jul-0202.html',\n",
       " 'http://mlg.ucd.ie/modules/COMP41680/archive/article-jul-1885.html',\n",
       " 'http://mlg.ucd.ie/modules/COMP41680/archive/article-jul-3830.html',\n",
       " 'http://mlg.ucd.ie/modules/COMP41680/archive/article-jul-0931.html',\n",
       " 'http://mlg.ucd.ie/modules/COMP41680/archive/article-jul-1059.html',\n",
       " 'http://mlg.ucd.ie/modules/COMP41680/archive/article-jul-3879.html',\n",
       " 'http://mlg.ucd.ie/modules/COMP41680/archive/article-jul-4233.html',\n",
       " 'http://mlg.ucd.ie/modules/COMP41680/archive/article-jul-0417.html',\n",
       " 'http://mlg.ucd.ie/modules/COMP41680/archive/article-jul-3332.html',\n",
       " 'http://mlg.ucd.ie/modules/COMP41680/archive/article-jul-0589.html',\n",
       " 'http://mlg.ucd.ie/modules/COMP41680/archive/article-jul-4193.html',\n",
       " 'http://mlg.ucd.ie/modules/COMP41680/archive/article-jul-0503.html',\n",
       " 'http://mlg.ucd.ie/modules/COMP41680/archive/article-jul-1350.html',\n",
       " 'http://mlg.ucd.ie/modules/COMP41680/archive/article-jul-1729.html',\n",
       " 'http://mlg.ucd.ie/modules/COMP41680/archive/article-jul-4500.html',\n",
       " 'http://mlg.ucd.ie/modules/COMP41680/archive/article-jul-3874.html',\n",
       " 'http://mlg.ucd.ie/modules/COMP41680/archive/article-jul-2168.html',\n",
       " 'http://mlg.ucd.ie/modules/COMP41680/archive/article-aug-3515.html',\n",
       " 'http://mlg.ucd.ie/modules/COMP41680/archive/article-aug-1123.html',\n",
       " 'http://mlg.ucd.ie/modules/COMP41680/archive/article-aug-4475.html',\n",
       " 'http://mlg.ucd.ie/modules/COMP41680/archive/article-aug-3384.html',\n",
       " 'http://mlg.ucd.ie/modules/COMP41680/archive/article-aug-4019.html',\n",
       " 'http://mlg.ucd.ie/modules/COMP41680/archive/article-aug-0806.html',\n",
       " 'http://mlg.ucd.ie/modules/COMP41680/archive/article-aug-4964.html',\n",
       " 'http://mlg.ucd.ie/modules/COMP41680/archive/article-aug-4265.html',\n",
       " 'http://mlg.ucd.ie/modules/COMP41680/archive/article-aug-3926.html',\n",
       " 'http://mlg.ucd.ie/modules/COMP41680/archive/article-aug-4614.html',\n",
       " 'http://mlg.ucd.ie/modules/COMP41680/archive/article-aug-2567.html',\n",
       " 'http://mlg.ucd.ie/modules/COMP41680/archive/article-aug-4701.html',\n",
       " 'http://mlg.ucd.ie/modules/COMP41680/archive/article-aug-0893.html',\n",
       " 'http://mlg.ucd.ie/modules/COMP41680/archive/article-aug-4668.html',\n",
       " 'http://mlg.ucd.ie/modules/COMP41680/archive/article-aug-1637.html',\n",
       " 'http://mlg.ucd.ie/modules/COMP41680/archive/article-aug-0324.html',\n",
       " 'http://mlg.ucd.ie/modules/COMP41680/archive/article-aug-0908.html',\n",
       " 'http://mlg.ucd.ie/modules/COMP41680/archive/article-aug-1443.html',\n",
       " 'http://mlg.ucd.ie/modules/COMP41680/archive/article-aug-3079.html',\n",
       " 'http://mlg.ucd.ie/modules/COMP41680/archive/article-aug-0896.html',\n",
       " 'http://mlg.ucd.ie/modules/COMP41680/archive/article-aug-4896.html',\n",
       " 'http://mlg.ucd.ie/modules/COMP41680/archive/article-aug-3579.html',\n",
       " 'http://mlg.ucd.ie/modules/COMP41680/archive/article-aug-4658.html',\n",
       " 'http://mlg.ucd.ie/modules/COMP41680/archive/article-aug-2737.html',\n",
       " 'http://mlg.ucd.ie/modules/COMP41680/archive/article-aug-1784.html',\n",
       " 'http://mlg.ucd.ie/modules/COMP41680/archive/article-aug-2063.html',\n",
       " 'http://mlg.ucd.ie/modules/COMP41680/archive/article-aug-1532.html',\n",
       " 'http://mlg.ucd.ie/modules/COMP41680/archive/article-aug-0644.html',\n",
       " 'http://mlg.ucd.ie/modules/COMP41680/archive/article-aug-3247.html',\n",
       " 'http://mlg.ucd.ie/modules/COMP41680/archive/article-aug-2464.html',\n",
       " 'http://mlg.ucd.ie/modules/COMP41680/archive/article-aug-2142.html',\n",
       " 'http://mlg.ucd.ie/modules/COMP41680/archive/article-aug-1157.html',\n",
       " 'http://mlg.ucd.ie/modules/COMP41680/archive/article-aug-2119.html',\n",
       " 'http://mlg.ucd.ie/modules/COMP41680/archive/article-aug-3859.html',\n",
       " 'http://mlg.ucd.ie/modules/COMP41680/archive/article-aug-1614.html',\n",
       " 'http://mlg.ucd.ie/modules/COMP41680/archive/article-aug-3206.html',\n",
       " 'http://mlg.ucd.ie/modules/COMP41680/archive/article-aug-3335.html',\n",
       " 'http://mlg.ucd.ie/modules/COMP41680/archive/article-aug-2889.html',\n",
       " 'http://mlg.ucd.ie/modules/COMP41680/archive/article-aug-0763.html',\n",
       " 'http://mlg.ucd.ie/modules/COMP41680/archive/article-aug-0648.html',\n",
       " 'http://mlg.ucd.ie/modules/COMP41680/archive/article-aug-1226.html',\n",
       " 'http://mlg.ucd.ie/modules/COMP41680/archive/article-aug-2762.html',\n",
       " 'http://mlg.ucd.ie/modules/COMP41680/archive/article-aug-0319.html',\n",
       " 'http://mlg.ucd.ie/modules/COMP41680/archive/article-aug-3240.html',\n",
       " 'http://mlg.ucd.ie/modules/COMP41680/archive/article-aug-1817.html',\n",
       " 'http://mlg.ucd.ie/modules/COMP41680/archive/article-aug-0781.html',\n",
       " 'http://mlg.ucd.ie/modules/COMP41680/archive/article-aug-4887.html',\n",
       " 'http://mlg.ucd.ie/modules/COMP41680/archive/article-aug-4692.html',\n",
       " 'http://mlg.ucd.ie/modules/COMP41680/archive/article-aug-0685.html',\n",
       " 'http://mlg.ucd.ie/modules/COMP41680/archive/article-aug-1101.html',\n",
       " 'http://mlg.ucd.ie/modules/COMP41680/archive/article-aug-1823.html',\n",
       " 'http://mlg.ucd.ie/modules/COMP41680/archive/article-aug-3199.html',\n",
       " 'http://mlg.ucd.ie/modules/COMP41680/archive/article-aug-0176.html',\n",
       " 'http://mlg.ucd.ie/modules/COMP41680/archive/article-aug-1452.html',\n",
       " 'http://mlg.ucd.ie/modules/COMP41680/archive/article-aug-3112.html',\n",
       " 'http://mlg.ucd.ie/modules/COMP41680/archive/article-aug-0373.html',\n",
       " 'http://mlg.ucd.ie/modules/COMP41680/archive/article-aug-4936.html',\n",
       " 'http://mlg.ucd.ie/modules/COMP41680/archive/article-aug-1558.html',\n",
       " 'http://mlg.ucd.ie/modules/COMP41680/archive/article-aug-3754.html',\n",
       " 'http://mlg.ucd.ie/modules/COMP41680/archive/article-aug-2783.html',\n",
       " 'http://mlg.ucd.ie/modules/COMP41680/archive/article-aug-4587.html',\n",
       " 'http://mlg.ucd.ie/modules/COMP41680/archive/article-aug-3962.html',\n",
       " 'http://mlg.ucd.ie/modules/COMP41680/archive/article-aug-0665.html',\n",
       " 'http://mlg.ucd.ie/modules/COMP41680/archive/article-aug-3312.html',\n",
       " 'http://mlg.ucd.ie/modules/COMP41680/archive/article-aug-2549.html',\n",
       " 'http://mlg.ucd.ie/modules/COMP41680/archive/article-aug-4009.html',\n",
       " 'http://mlg.ucd.ie/modules/COMP41680/archive/article-aug-2180.html',\n",
       " 'http://mlg.ucd.ie/modules/COMP41680/archive/article-aug-3857.html',\n",
       " 'http://mlg.ucd.ie/modules/COMP41680/archive/article-aug-3877.html',\n",
       " 'http://mlg.ucd.ie/modules/COMP41680/archive/article-aug-3101.html',\n",
       " 'http://mlg.ucd.ie/modules/COMP41680/archive/article-aug-3408.html',\n",
       " 'http://mlg.ucd.ie/modules/COMP41680/archive/article-aug-3126.html',\n",
       " 'http://mlg.ucd.ie/modules/COMP41680/archive/article-aug-2688.html',\n",
       " 'http://mlg.ucd.ie/modules/COMP41680/archive/article-aug-2601.html',\n",
       " 'http://mlg.ucd.ie/modules/COMP41680/archive/article-aug-1976.html',\n",
       " 'http://mlg.ucd.ie/modules/COMP41680/archive/article-aug-4015.html',\n",
       " 'http://mlg.ucd.ie/modules/COMP41680/archive/article-aug-4910.html',\n",
       " 'http://mlg.ucd.ie/modules/COMP41680/archive/article-aug-1990.html',\n",
       " 'http://mlg.ucd.ie/modules/COMP41680/archive/article-aug-3360.html',\n",
       " 'http://mlg.ucd.ie/modules/COMP41680/archive/article-aug-3213.html',\n",
       " 'http://mlg.ucd.ie/modules/COMP41680/archive/article-aug-3564.html',\n",
       " 'http://mlg.ucd.ie/modules/COMP41680/archive/article-aug-4998.html',\n",
       " 'http://mlg.ucd.ie/modules/COMP41680/archive/article-aug-0801.html',\n",
       " 'http://mlg.ucd.ie/modules/COMP41680/archive/article-aug-4456.html',\n",
       " 'http://mlg.ucd.ie/modules/COMP41680/archive/article-aug-4931.html',\n",
       " 'http://mlg.ucd.ie/modules/COMP41680/archive/article-aug-4232.html',\n",
       " 'http://mlg.ucd.ie/modules/COMP41680/archive/article-aug-1046.html',\n",
       " 'http://mlg.ucd.ie/modules/COMP41680/archive/article-aug-3940.html',\n",
       " 'http://mlg.ucd.ie/modules/COMP41680/archive/article-aug-4740.html',\n",
       " 'http://mlg.ucd.ie/modules/COMP41680/archive/article-aug-2812.html',\n",
       " 'http://mlg.ucd.ie/modules/COMP41680/archive/article-aug-0633.html',\n",
       " 'http://mlg.ucd.ie/modules/COMP41680/archive/article-aug-3280.html',\n",
       " 'http://mlg.ucd.ie/modules/COMP41680/archive/article-aug-4746.html',\n",
       " 'http://mlg.ucd.ie/modules/COMP41680/archive/article-aug-4220.html',\n",
       " 'http://mlg.ucd.ie/modules/COMP41680/archive/article-aug-1720.html',\n",
       " 'http://mlg.ucd.ie/modules/COMP41680/archive/article-aug-1390.html',\n",
       " 'http://mlg.ucd.ie/modules/COMP41680/archive/article-aug-2437.html',\n",
       " 'http://mlg.ucd.ie/modules/COMP41680/archive/article-aug-1486.html',\n",
       " 'http://mlg.ucd.ie/modules/COMP41680/archive/article-aug-2512.html',\n",
       " 'http://mlg.ucd.ie/modules/COMP41680/archive/article-aug-1933.html',\n",
       " 'http://mlg.ucd.ie/modules/COMP41680/archive/article-aug-1337.html',\n",
       " 'http://mlg.ucd.ie/modules/COMP41680/archive/article-aug-4172.html',\n",
       " 'http://mlg.ucd.ie/modules/COMP41680/archive/article-aug-3301.html',\n",
       " 'http://mlg.ucd.ie/modules/COMP41680/archive/article-aug-2517.html',\n",
       " 'http://mlg.ucd.ie/modules/COMP41680/archive/article-aug-4672.html',\n",
       " 'http://mlg.ucd.ie/modules/COMP41680/archive/article-aug-0800.html',\n",
       " 'http://mlg.ucd.ie/modules/COMP41680/archive/article-aug-0840.html',\n",
       " 'http://mlg.ucd.ie/modules/COMP41680/archive/article-aug-4831.html',\n",
       " 'http://mlg.ucd.ie/modules/COMP41680/archive/article-aug-2563.html',\n",
       " 'http://mlg.ucd.ie/modules/COMP41680/archive/article-aug-4625.html',\n",
       " 'http://mlg.ucd.ie/modules/COMP41680/archive/article-aug-1797.html',\n",
       " 'http://mlg.ucd.ie/modules/COMP41680/archive/article-aug-2487.html',\n",
       " 'http://mlg.ucd.ie/modules/COMP41680/archive/article-aug-0053.html',\n",
       " 'http://mlg.ucd.ie/modules/COMP41680/archive/article-aug-1767.html',\n",
       " 'http://mlg.ucd.ie/modules/COMP41680/archive/article-aug-3362.html',\n",
       " 'http://mlg.ucd.ie/modules/COMP41680/archive/article-aug-1146.html',\n",
       " 'http://mlg.ucd.ie/modules/COMP41680/archive/article-sep-1375.html',\n",
       " 'http://mlg.ucd.ie/modules/COMP41680/archive/article-sep-3874.html',\n",
       " 'http://mlg.ucd.ie/modules/COMP41680/archive/article-sep-0096.html',\n",
       " 'http://mlg.ucd.ie/modules/COMP41680/archive/article-sep-3814.html',\n",
       " 'http://mlg.ucd.ie/modules/COMP41680/archive/article-sep-4619.html',\n",
       " 'http://mlg.ucd.ie/modules/COMP41680/archive/article-sep-3639.html',\n",
       " 'http://mlg.ucd.ie/modules/COMP41680/archive/article-sep-4996.html',\n",
       " 'http://mlg.ucd.ie/modules/COMP41680/archive/article-sep-3370.html',\n",
       " 'http://mlg.ucd.ie/modules/COMP41680/archive/article-sep-0503.html',\n",
       " 'http://mlg.ucd.ie/modules/COMP41680/archive/article-sep-4426.html',\n",
       " 'http://mlg.ucd.ie/modules/COMP41680/archive/article-sep-1785.html',\n",
       " 'http://mlg.ucd.ie/modules/COMP41680/archive/article-sep-3918.html',\n",
       " 'http://mlg.ucd.ie/modules/COMP41680/archive/article-sep-0401.html',\n",
       " 'http://mlg.ucd.ie/modules/COMP41680/archive/article-sep-2816.html',\n",
       " 'http://mlg.ucd.ie/modules/COMP41680/archive/article-sep-3016.html',\n",
       " 'http://mlg.ucd.ie/modules/COMP41680/archive/article-sep-2767.html',\n",
       " 'http://mlg.ucd.ie/modules/COMP41680/archive/article-sep-4852.html',\n",
       " 'http://mlg.ucd.ie/modules/COMP41680/archive/article-sep-1803.html',\n",
       " 'http://mlg.ucd.ie/modules/COMP41680/archive/article-sep-0386.html',\n",
       " 'http://mlg.ucd.ie/modules/COMP41680/archive/article-sep-3587.html',\n",
       " 'http://mlg.ucd.ie/modules/COMP41680/archive/article-sep-1349.html',\n",
       " 'http://mlg.ucd.ie/modules/COMP41680/archive/article-sep-3570.html',\n",
       " 'http://mlg.ucd.ie/modules/COMP41680/archive/article-sep-4970.html',\n",
       " 'http://mlg.ucd.ie/modules/COMP41680/archive/article-sep-0920.html',\n",
       " 'http://mlg.ucd.ie/modules/COMP41680/archive/article-sep-4665.html',\n",
       " 'http://mlg.ucd.ie/modules/COMP41680/archive/article-sep-3053.html',\n",
       " 'http://mlg.ucd.ie/modules/COMP41680/archive/article-sep-4093.html',\n",
       " 'http://mlg.ucd.ie/modules/COMP41680/archive/article-sep-1145.html',\n",
       " 'http://mlg.ucd.ie/modules/COMP41680/archive/article-sep-3077.html',\n",
       " 'http://mlg.ucd.ie/modules/COMP41680/archive/article-sep-2562.html',\n",
       " 'http://mlg.ucd.ie/modules/COMP41680/archive/article-sep-4352.html',\n",
       " 'http://mlg.ucd.ie/modules/COMP41680/archive/article-sep-2859.html',\n",
       " 'http://mlg.ucd.ie/modules/COMP41680/archive/article-sep-3900.html',\n",
       " 'http://mlg.ucd.ie/modules/COMP41680/archive/article-sep-3760.html',\n",
       " 'http://mlg.ucd.ie/modules/COMP41680/archive/article-sep-2440.html',\n",
       " 'http://mlg.ucd.ie/modules/COMP41680/archive/article-sep-2872.html',\n",
       " 'http://mlg.ucd.ie/modules/COMP41680/archive/article-sep-4414.html',\n",
       " 'http://mlg.ucd.ie/modules/COMP41680/archive/article-sep-4877.html',\n",
       " 'http://mlg.ucd.ie/modules/COMP41680/archive/article-sep-3592.html',\n",
       " 'http://mlg.ucd.ie/modules/COMP41680/archive/article-sep-0022.html',\n",
       " 'http://mlg.ucd.ie/modules/COMP41680/archive/article-sep-0232.html',\n",
       " 'http://mlg.ucd.ie/modules/COMP41680/archive/article-sep-1748.html',\n",
       " 'http://mlg.ucd.ie/modules/COMP41680/archive/article-sep-4345.html',\n",
       " 'http://mlg.ucd.ie/modules/COMP41680/archive/article-sep-1443.html',\n",
       " 'http://mlg.ucd.ie/modules/COMP41680/archive/article-sep-4275.html',\n",
       " 'http://mlg.ucd.ie/modules/COMP41680/archive/article-sep-0555.html',\n",
       " 'http://mlg.ucd.ie/modules/COMP41680/archive/article-sep-4613.html',\n",
       " 'http://mlg.ucd.ie/modules/COMP41680/archive/article-sep-2949.html',\n",
       " 'http://mlg.ucd.ie/modules/COMP41680/archive/article-sep-3287.html',\n",
       " 'http://mlg.ucd.ie/modules/COMP41680/archive/article-sep-4860.html',\n",
       " 'http://mlg.ucd.ie/modules/COMP41680/archive/article-sep-3046.html',\n",
       " 'http://mlg.ucd.ie/modules/COMP41680/archive/article-sep-4890.html',\n",
       " 'http://mlg.ucd.ie/modules/COMP41680/archive/article-sep-3678.html',\n",
       " 'http://mlg.ucd.ie/modules/COMP41680/archive/article-sep-3602.html',\n",
       " 'http://mlg.ucd.ie/modules/COMP41680/archive/article-sep-4876.html',\n",
       " 'http://mlg.ucd.ie/modules/COMP41680/archive/article-sep-4207.html',\n",
       " 'http://mlg.ucd.ie/modules/COMP41680/archive/article-sep-1238.html',\n",
       " 'http://mlg.ucd.ie/modules/COMP41680/archive/article-sep-4867.html',\n",
       " 'http://mlg.ucd.ie/modules/COMP41680/archive/article-sep-0823.html',\n",
       " 'http://mlg.ucd.ie/modules/COMP41680/archive/article-sep-0254.html',\n",
       " 'http://mlg.ucd.ie/modules/COMP41680/archive/article-sep-3264.html',\n",
       " ...]"
      ]
     },
     "execution_count": 5,
     "metadata": {},
     "output_type": "execute_result"
    }
   ],
   "source": [
    "#all links in the corpus\n",
    "all_link=[] # to store all 1408 links\n",
    "titles=[] # to store titles\n",
    "for x in main_link:\n",
    "    x_url=urllib.request.urlopen(x)\n",
    "    all_url =x_url.read().decode(\"utf-8\")\n",
    "    soup1 = BeautifulSoup(all_url,'html.parser')\n",
    "    for link in soup1.find_all('a',href=lambda x: x and x.startswith('article')): #to find all the sentences that have tag 'a' and href with start with article\n",
    "        if(link!=\"\"):\n",
    "            all_link.append(url+link.get('href'))\n",
    "            titles.append(link.get_text()) # getting titles from all the  1408 links\n",
    "    x_url.close()\n",
    "all_link "
   ]
  },
  {
   "cell_type": "markdown",
   "metadata": {},
   "source": [
    "Above are all the links (1408) in the corpus which will used to fetch the main body text from each link."
   ]
  },
  {
   "cell_type": "markdown",
   "metadata": {},
   "source": [
    "### 2. Retrieve all web pages corresponding to these article URLs. From the web pages, extract the main body text containing the content of each news article. Save the body of each article as plain text"
   ]
  },
  {
   "cell_type": "markdown",
   "metadata": {},
   "source": [
    "### 3. Save the category labels for all articles in a separate file."
   ]
  },
  {
   "cell_type": "code",
   "execution_count": 6,
   "metadata": {
    "collapsed": true
   },
   "outputs": [],
   "source": [
    "#category\n",
    "category=[]\n",
    "for x in main_link:\n",
    "    url=urllib.request.urlopen(x)\n",
    "    c_url =url.read().decode(\"utf-8\")\n",
    "    soup1 = BeautifulSoup(c_url,'html.parser')\n",
    "    for link in soup1.find('div',class_=\"main\").find_all('td',class_=\"category\"): # fetching all the td tags\n",
    "        a=link.get_text()\n",
    "        a=a[1:]\n",
    "        if(a!=\"N/A\"):\n",
    "            category.append(a) #adding category if the title is not N/A\n",
    "        url.close()\n",
    "len(category)\n",
    "file = open(\"category.txt\",'w',encoding=\"utf-8\") # Writing categories to a separate file called category.txt\n",
    "file.write(str(category))\n",
    "file.close()"
   ]
  },
  {
   "cell_type": "code",
   "execution_count": 7,
   "metadata": {},
   "outputs": [
    {
     "name": "stdout",
     "output_type": "stream",
     "text": [
      "{'sport', 'business', 'technology'}\n"
     ]
    }
   ],
   "source": [
    "print(set(category))"
   ]
  },
  {
   "cell_type": "markdown",
   "metadata": {},
   "source": [
    "From the above, I got to know that there are 3 unique news categories in the corpus."
   ]
  },
  {
   "cell_type": "code",
   "execution_count": 8,
   "metadata": {
    "scrolled": true
   },
   "outputs": [
    {
     "data": {
      "text/html": [
       "<div>\n",
       "<style>\n",
       "    .dataframe thead tr:only-child th {\n",
       "        text-align: right;\n",
       "    }\n",
       "\n",
       "    .dataframe thead th {\n",
       "        text-align: left;\n",
       "    }\n",
       "\n",
       "    .dataframe tbody tr th {\n",
       "        vertical-align: top;\n",
       "    }\n",
       "</style>\n",
       "<table border=\"1\" class=\"dataframe\">\n",
       "  <thead>\n",
       "    <tr style=\"text-align: right;\">\n",
       "      <th></th>\n",
       "      <th>labels</th>\n",
       "      <th>Category</th>\n",
       "    </tr>\n",
       "  </thead>\n",
       "  <tbody>\n",
       "    <tr>\n",
       "      <th>0</th>\n",
       "      <td>technology</td>\n",
       "      <td>2</td>\n",
       "    </tr>\n",
       "    <tr>\n",
       "      <th>1</th>\n",
       "      <td>business</td>\n",
       "      <td>0</td>\n",
       "    </tr>\n",
       "    <tr>\n",
       "      <th>2</th>\n",
       "      <td>technology</td>\n",
       "      <td>2</td>\n",
       "    </tr>\n",
       "    <tr>\n",
       "      <th>3</th>\n",
       "      <td>business</td>\n",
       "      <td>0</td>\n",
       "    </tr>\n",
       "    <tr>\n",
       "      <th>4</th>\n",
       "      <td>sport</td>\n",
       "      <td>1</td>\n",
       "    </tr>\n",
       "  </tbody>\n",
       "</table>\n",
       "</div>"
      ],
      "text/plain": [
       "       labels  Category\n",
       "0  technology         2\n",
       "1    business         0\n",
       "2  technology         2\n",
       "3    business         0\n",
       "4       sport         1"
      ]
     },
     "execution_count": 8,
     "metadata": {},
     "output_type": "execute_result"
    }
   ],
   "source": [
    "fd = pd.DataFrame({\"labels\": category})\n",
    "category_types=['business', 'sport', 'technology']\n",
    "fd['Category']=fd['labels'].astype(\"category\",categories=category_types).cat.codes\n",
    "fd.head()"
   ]
  },
  {
   "cell_type": "markdown",
   "metadata": {},
   "source": [
    "Each example in the dataset has a class label or a \"target\" from three possible classes. Above I'm normalising the nominal values to ordinal values which is given as target to classification algorithm."
   ]
  },
  {
   "cell_type": "code",
   "execution_count": 9,
   "metadata": {
    "collapsed": true
   },
   "outputs": [],
   "source": [
    "short_link=[] # to store all the file names eg: article-jan-0418\n",
    "text2=set()\n",
    "for x in all_link:\n",
    "    filename=x.split(\"/\")[-1][:-5]\n",
    "    short_link.append(filename)\n",
    "    text_url=requests.get(x)\n",
    "    soup2 = BeautifulSoup(text_url.content,'html.parser')\n",
    "    item=soup2.find('div',class_=\"main\").find_all('p',class_=\"\") # fetching all p tags\n",
    "    item1=soup2.find('div',class_=\"main\").find('h2') # fetching heading of the main body text\n",
    "    if not os.path.exists(filename):   # write if file is not present\n",
    "        file = open('raw_documents.txt','a',encoding=\"utf-8\")\n",
    "        file.write(item1.get_text()+\" | \") # Writing Title where title and main body text are separated by '|'\n",
    "        for x in item:\n",
    "            file.write(x.get_text()) # writing the main body text\n",
    "        file.write(\"\\n\") # Each main body text of links are separated br new line\n",
    "        file.close()\n",
    "    text_url.close()"
   ]
  },
  {
   "cell_type": "code",
   "execution_count": 10,
   "metadata": {
    "scrolled": false
   },
   "outputs": [
    {
     "data": {
      "text/html": [
       "<div>\n",
       "<style>\n",
       "    .dataframe thead tr:only-child th {\n",
       "        text-align: right;\n",
       "    }\n",
       "\n",
       "    .dataframe thead th {\n",
       "        text-align: left;\n",
       "    }\n",
       "\n",
       "    .dataframe tbody tr th {\n",
       "        vertical-align: top;\n",
       "    }\n",
       "</style>\n",
       "<table border=\"1\" class=\"dataframe\">\n",
       "  <thead>\n",
       "    <tr style=\"text-align: right;\">\n",
       "      <th></th>\n",
       "      <th>File</th>\n",
       "      <th>Title</th>\n",
       "      <th>Label</th>\n",
       "      <th>Category</th>\n",
       "    </tr>\n",
       "  </thead>\n",
       "  <tbody>\n",
       "    <tr>\n",
       "      <th>0</th>\n",
       "      <td>article-jan-0418</td>\n",
       "      <td>21st-Century Sports: How Digital Technology Is...</td>\n",
       "      <td>technology</td>\n",
       "      <td>2</td>\n",
       "    </tr>\n",
       "    <tr>\n",
       "      <th>1</th>\n",
       "      <td>article-jan-0027</td>\n",
       "      <td>Asian quake hits European shares</td>\n",
       "      <td>business</td>\n",
       "      <td>0</td>\n",
       "    </tr>\n",
       "    <tr>\n",
       "      <th>2</th>\n",
       "      <td>article-jan-0631</td>\n",
       "      <td>BT offers free net phone calls</td>\n",
       "      <td>technology</td>\n",
       "      <td>2</td>\n",
       "    </tr>\n",
       "    <tr>\n",
       "      <th>3</th>\n",
       "      <td>article-jan-2105</td>\n",
       "      <td>Barclays shares up on merger talk</td>\n",
       "      <td>business</td>\n",
       "      <td>0</td>\n",
       "    </tr>\n",
       "    <tr>\n",
       "      <th>4</th>\n",
       "      <td>article-jan-3300</td>\n",
       "      <td>Barkley fit for match in Ireland</td>\n",
       "      <td>sport</td>\n",
       "      <td>1</td>\n",
       "    </tr>\n",
       "  </tbody>\n",
       "</table>\n",
       "</div>"
      ],
      "text/plain": [
       "               File                                              Title  \\\n",
       "0  article-jan-0418  21st-Century Sports: How Digital Technology Is...   \n",
       "1  article-jan-0027                   Asian quake hits European shares   \n",
       "2  article-jan-0631                     BT offers free net phone calls   \n",
       "3  article-jan-2105                  Barclays shares up on merger talk   \n",
       "4  article-jan-3300                   Barkley fit for match in Ireland   \n",
       "\n",
       "        Label  Category  \n",
       "0  technology         2  \n",
       "1    business         0  \n",
       "2  technology         2  \n",
       "3    business         0  \n",
       "4       sport         1  "
      ]
     },
     "execution_count": 10,
     "metadata": {},
     "output_type": "execute_result"
    }
   ],
   "source": [
    "show=pd.DataFrame({\"File\":short_link,\"Title\":titles,\"Label\":fd['labels'],\"Category\":fd['Category']},columns=['File','Title','Label','Category'])\n",
    "show.head()"
   ]
  },
  {
   "cell_type": "markdown",
   "metadata": {},
   "source": [
    "The above DataFrame is just for understanding in perspective of the viewer"
   ]
  },
  {
   "cell_type": "code",
   "execution_count": 11,
   "metadata": {
    "scrolled": false
   },
   "outputs": [
    {
     "name": "stdout",
     "output_type": "stream",
     "text": [
      "Label\n",
      "business      491\n",
      "sport         526\n",
      "technology    391\n",
      "dtype: int64\n"
     ]
    },
    {
     "data": {
      "image/png": "[encoded data removed]",
      "text/plain": [
       "<matplotlib.figure.Figure at 0x175345bbb70>"
      ]
     },
     "metadata": {},
     "output_type": "display_data"
    }
   ],
   "source": [
    "print(show.groupby('Label').size())\n",
    "sns.countplot(show['Label'])\n",
    "plt.show()"
   ]
  },
  {
   "cell_type": "markdown",
   "metadata": {},
   "source": [
    "The data is pretty balanced based on the above chart"
   ]
  },
  {
   "cell_type": "markdown",
   "metadata": {},
   "source": [
    "# Part 2. Text Classification "
   ]
  },
  {
   "cell_type": "markdown",
   "metadata": {},
   "source": [
    "### 1. From the files created in Part 1, load the set of raw documents into your notebook."
   ]
  },
  {
   "cell_type": "code",
   "execution_count": 12,
   "metadata": {
    "collapsed": true
   },
   "outputs": [],
   "source": [
    "fin = open(\"raw_documents.txt\",\"r\",encoding=\"utf-8\")\n",
    "raw_documents = fin.readlines() #reading for the file"
   ]
  },
  {
   "cell_type": "markdown",
   "metadata": {},
   "source": [
    "### 2. From the raw documents, create a document-term matrix, using appropriate text pre-processing and term weighting steps. "
   ]
  },
  {
   "cell_type": "code",
   "execution_count": 13,
   "metadata": {
    "collapsed": true
   },
   "outputs": [],
   "source": [
    "def lemma_tokenizer(text):\n",
    "    # the standard scikit-learn tokenizer\n",
    "    standard_tokenizer = CountVectorizer(lowercase=True).build_tokenizer() # lower casing the tokens\n",
    "    tokens = standard_tokenizer(text)\n",
    "    # use of NLTK to perform lemmatisation on each token\n",
    "    lemmatizer = nltk.stem.WordNetLemmatizer() # Doing a Word Net lemmatizer\n",
    "    lemma_tokens = []\n",
    "    for token in tokens:\n",
    "        lemma_tokens.append( lemmatizer.lemmatize(token) )\n",
    "    return lemma_tokens"
   ]
  },
  {
   "cell_type": "markdown",
   "metadata": {},
   "source": [
    "Above I'm doing lower casing an then tokenising (The tokenization splits the source file into individual tokens. It is used for syntax highlighting. Here, punctuation is treated as a separate token.) Then applying a WordNet lemmatizer to those tokens. lemmatization is good with plurals, words ending with -ing, -es, and other commoners like is, are, am, etc. WordNet Lemmatizer works only with noun, verb and adjective. So, any other form needs to be\n",
    "converted to these forms. Lemmatization is slower and it removes affixes if the word is in the given dictionary."
   ]
  },
  {
   "cell_type": "code",
   "execution_count": 14,
   "metadata": {
    "scrolled": true
   },
   "outputs": [
    {
     "data": {
      "text/plain": [
       "(1408, 3195)"
      ]
     },
     "execution_count": 14,
     "metadata": {},
     "output_type": "execute_result"
    }
   ],
   "source": [
    "from sklearn.feature_extraction.text import TfidfVectorizer\n",
    "tfidf = TfidfVectorizer(stop_words=\"english\",min_df = 12,tokenizer=lemma_tokenizer) # building tfidf\n",
    "X = tfidf.fit_transform(raw_documents)\n",
    "X.shape"
   ]
  },
  {
   "cell_type": "markdown",
   "metadata": {},
   "source": [
    "Above I'm taking minimum document frequency = 12. So there are 3195 words that appear in atleast 12 documents. I'm generating TF-IDF weighted document-term matrix by using TfidfVectorizer()."
   ]
  },
  {
   "cell_type": "code",
   "execution_count": 56,
   "metadata": {
    "scrolled": true
   },
   "outputs": [
    {
     "name": "stdout",
     "output_type": "stream",
     "text": [
      "  (0, 44)\t0.109743238189\n",
      "  (0, 542)\t0.100437162172\n",
      "  (0, 2699)\t0.191279822343\n",
      "  (0, 884)\t0.130754333036\n",
      "  (0, 2870)\t0.165285050876\n",
      "  (0, 557)\t0.0941317754783\n",
      "  (0, 1120)\t0.117309844272\n",
      "  (0, 2700)\t0.392420228095\n",
      "  (0, 1509)\t0.35620557472\n",
      "  (0, 1351)\t0.0950806714208\n",
      "  (0, 633)\t0.0486609354321\n",
      "  (0, 1749)\t0.0534140072205\n",
      "  (0, 3100)\t0.0438127584974\n",
      "  (0, 101)\t0.0843807367164\n",
      "  (0, 828)\t0.0947410545921\n",
      "  (0, 2603)\t0.0843807367164\n",
      "  (0, 2607)\t0.0742663848466\n",
      "  (0, 825)\t0.0851279955444\n",
      "  (0, 2915)\t0.0350577164738\n",
      "  (0, 2662)\t0.0751665402555\n",
      "  (0, 1670)\t0.0676042315847\n",
      "  (0, 2311)\t0.0765984899946\n",
      "  (0, 880)\t0.0847508411154\n",
      "  (0, 787)\t0.13952067099\n",
      "  (0, 1142)\t0.50116486811\n",
      "  :\t:\n",
      "  (0, 1313)\t0.0508951882179\n",
      "  (0, 1686)\t0.0666831348636\n",
      "  (0, 820)\t0.0778763532841\n",
      "  (0, 2413)\t0.0792424127499\n",
      "  (0, 3180)\t0.0281755368818\n",
      "  (0, 2539)\t0.0613274369667\n",
      "  (0, 2733)\t0.112576636159\n",
      "  (0, 3159)\t0.0398051391868\n",
      "  (0, 1270)\t0.0863239908134\n",
      "  (0, 1026)\t0.109743238189\n",
      "  (0, 311)\t0.0855124738161\n",
      "  (0, 2243)\t0.069071570089\n",
      "  (0, 2205)\t0.0953696790996\n",
      "  (0, 2949)\t0.0776140976773\n",
      "  (0, 1844)\t0.0988523158517\n",
      "  (0, 711)\t0.0953696790996\n",
      "  (0, 2039)\t0.0819673172494\n",
      "  (0, 1399)\t0.0734053792455\n",
      "  (0, 758)\t0.0749376358697\n",
      "  (0, 230)\t0.0988523158517\n",
      "  (0, 2668)\t0.0813285518921\n",
      "  (0, 2428)\t0.0747113475913\n",
      "  (0, 739)\t0.0829658485974\n",
      "  (0, 154)\t0.0953696790996\n",
      "  (0, 369)\t0.189482109184\n"
     ]
    }
   ],
   "source": [
    "print(X[0])"
   ]
  },
  {
   "cell_type": "markdown",
   "metadata": {},
   "source": [
    "Above are the indexes of distinct terms and their frequency of terms in document 1. Eg: (0,44) 0.109.. => 0 is the document id and 44 is the index of a particukar term and 0.109... is the frequency of that term."
   ]
  },
  {
   "cell_type": "code",
   "execution_count": 15,
   "metadata": {},
   "outputs": [
    {
     "data": {
      "text/plain": [
       "(1408, 3195)"
      ]
     },
     "execution_count": 15,
     "metadata": {},
     "output_type": "execute_result"
    }
   ],
   "source": [
    "test=pd.DataFrame(X.todense()) # sparse matrix to Dataframe\n",
    "test.shape"
   ]
  },
  {
   "cell_type": "markdown",
   "metadata": {},
   "source": [
    "Above I'm converting a csr sparse matrix to dataframe: which is give as input data to the classification algorithm."
   ]
  },
  {
   "cell_type": "code",
   "execution_count": 16,
   "metadata": {
    "scrolled": true
   },
   "outputs": [
    {
     "data": {
      "text/html": [
       "<div>\n",
       "<style>\n",
       "    .dataframe thead tr:only-child th {\n",
       "        text-align: right;\n",
       "    }\n",
       "\n",
       "    .dataframe thead th {\n",
       "        text-align: left;\n",
       "    }\n",
       "\n",
       "    .dataframe tbody tr th {\n",
       "        vertical-align: top;\n",
       "    }\n",
       "</style>\n",
       "<table border=\"1\" class=\"dataframe\">\n",
       "  <thead>\n",
       "    <tr style=\"text-align: right;\">\n",
       "      <th></th>\n",
       "      <th>0</th>\n",
       "      <th>1</th>\n",
       "      <th>2</th>\n",
       "      <th>3</th>\n",
       "      <th>4</th>\n",
       "      <th>5</th>\n",
       "      <th>6</th>\n",
       "      <th>7</th>\n",
       "      <th>8</th>\n",
       "      <th>9</th>\n",
       "      <th>...</th>\n",
       "      <th>3185</th>\n",
       "      <th>3186</th>\n",
       "      <th>3187</th>\n",
       "      <th>3188</th>\n",
       "      <th>3189</th>\n",
       "      <th>3190</th>\n",
       "      <th>3191</th>\n",
       "      <th>3192</th>\n",
       "      <th>3193</th>\n",
       "      <th>3194</th>\n",
       "    </tr>\n",
       "  </thead>\n",
       "  <tbody>\n",
       "    <tr>\n",
       "      <th>count</th>\n",
       "      <td>1408.000000</td>\n",
       "      <td>1408.000000</td>\n",
       "      <td>1408.000000</td>\n",
       "      <td>1408.000000</td>\n",
       "      <td>1408.000000</td>\n",
       "      <td>1408.000000</td>\n",
       "      <td>1408.000000</td>\n",
       "      <td>1408.000000</td>\n",
       "      <td>1408.000000</td>\n",
       "      <td>1408.000000</td>\n",
       "      <td>...</td>\n",
       "      <td>1408.000000</td>\n",
       "      <td>1408.000000</td>\n",
       "      <td>1408.000000</td>\n",
       "      <td>1408.000000</td>\n",
       "      <td>1408.000000</td>\n",
       "      <td>1408.000000</td>\n",
       "      <td>1408.000000</td>\n",
       "      <td>1408.000000</td>\n",
       "      <td>1408.000000</td>\n",
       "      <td>1408.000000</td>\n",
       "    </tr>\n",
       "    <tr>\n",
       "      <th>mean</th>\n",
       "      <td>0.011060</td>\n",
       "      <td>0.001851</td>\n",
       "      <td>0.009148</td>\n",
       "      <td>0.004242</td>\n",
       "      <td>0.002131</td>\n",
       "      <td>0.000793</td>\n",
       "      <td>0.004649</td>\n",
       "      <td>0.000865</td>\n",
       "      <td>0.006009</td>\n",
       "      <td>0.000879</td>\n",
       "      <td>...</td>\n",
       "      <td>0.001194</td>\n",
       "      <td>0.001139</td>\n",
       "      <td>0.000880</td>\n",
       "      <td>0.001424</td>\n",
       "      <td>0.002306</td>\n",
       "      <td>0.001246</td>\n",
       "      <td>0.007334</td>\n",
       "      <td>0.003102</td>\n",
       "      <td>0.001363</td>\n",
       "      <td>0.000803</td>\n",
       "    </tr>\n",
       "    <tr>\n",
       "      <th>std</th>\n",
       "      <td>0.028484</td>\n",
       "      <td>0.019488</td>\n",
       "      <td>0.021173</td>\n",
       "      <td>0.017531</td>\n",
       "      <td>0.015162</td>\n",
       "      <td>0.008537</td>\n",
       "      <td>0.016844</td>\n",
       "      <td>0.009175</td>\n",
       "      <td>0.017430</td>\n",
       "      <td>0.007898</td>\n",
       "      <td>...</td>\n",
       "      <td>0.009061</td>\n",
       "      <td>0.009883</td>\n",
       "      <td>0.010622</td>\n",
       "      <td>0.017564</td>\n",
       "      <td>0.026142</td>\n",
       "      <td>0.015553</td>\n",
       "      <td>0.058607</td>\n",
       "      <td>0.025262</td>\n",
       "      <td>0.013981</td>\n",
       "      <td>0.008351</td>\n",
       "    </tr>\n",
       "    <tr>\n",
       "      <th>min</th>\n",
       "      <td>0.000000</td>\n",
       "      <td>0.000000</td>\n",
       "      <td>0.000000</td>\n",
       "      <td>0.000000</td>\n",
       "      <td>0.000000</td>\n",
       "      <td>0.000000</td>\n",
       "      <td>0.000000</td>\n",
       "      <td>0.000000</td>\n",
       "      <td>0.000000</td>\n",
       "      <td>0.000000</td>\n",
       "      <td>...</td>\n",
       "      <td>0.000000</td>\n",
       "      <td>0.000000</td>\n",
       "      <td>0.000000</td>\n",
       "      <td>0.000000</td>\n",
       "      <td>0.000000</td>\n",
       "      <td>0.000000</td>\n",
       "      <td>0.000000</td>\n",
       "      <td>0.000000</td>\n",
       "      <td>0.000000</td>\n",
       "      <td>0.000000</td>\n",
       "    </tr>\n",
       "    <tr>\n",
       "      <th>25%</th>\n",
       "      <td>0.000000</td>\n",
       "      <td>0.000000</td>\n",
       "      <td>0.000000</td>\n",
       "      <td>0.000000</td>\n",
       "      <td>0.000000</td>\n",
       "      <td>0.000000</td>\n",
       "      <td>0.000000</td>\n",
       "      <td>0.000000</td>\n",
       "      <td>0.000000</td>\n",
       "      <td>0.000000</td>\n",
       "      <td>...</td>\n",
       "      <td>0.000000</td>\n",
       "      <td>0.000000</td>\n",
       "      <td>0.000000</td>\n",
       "      <td>0.000000</td>\n",
       "      <td>0.000000</td>\n",
       "      <td>0.000000</td>\n",
       "      <td>0.000000</td>\n",
       "      <td>0.000000</td>\n",
       "      <td>0.000000</td>\n",
       "      <td>0.000000</td>\n",
       "    </tr>\n",
       "    <tr>\n",
       "      <th>50%</th>\n",
       "      <td>0.000000</td>\n",
       "      <td>0.000000</td>\n",
       "      <td>0.000000</td>\n",
       "      <td>0.000000</td>\n",
       "      <td>0.000000</td>\n",
       "      <td>0.000000</td>\n",
       "      <td>0.000000</td>\n",
       "      <td>0.000000</td>\n",
       "      <td>0.000000</td>\n",
       "      <td>0.000000</td>\n",
       "      <td>...</td>\n",
       "      <td>0.000000</td>\n",
       "      <td>0.000000</td>\n",
       "      <td>0.000000</td>\n",
       "      <td>0.000000</td>\n",
       "      <td>0.000000</td>\n",
       "      <td>0.000000</td>\n",
       "      <td>0.000000</td>\n",
       "      <td>0.000000</td>\n",
       "      <td>0.000000</td>\n",
       "      <td>0.000000</td>\n",
       "    </tr>\n",
       "    <tr>\n",
       "      <th>75%</th>\n",
       "      <td>0.000000</td>\n",
       "      <td>0.000000</td>\n",
       "      <td>0.000000</td>\n",
       "      <td>0.000000</td>\n",
       "      <td>0.000000</td>\n",
       "      <td>0.000000</td>\n",
       "      <td>0.000000</td>\n",
       "      <td>0.000000</td>\n",
       "      <td>0.000000</td>\n",
       "      <td>0.000000</td>\n",
       "      <td>...</td>\n",
       "      <td>0.000000</td>\n",
       "      <td>0.000000</td>\n",
       "      <td>0.000000</td>\n",
       "      <td>0.000000</td>\n",
       "      <td>0.000000</td>\n",
       "      <td>0.000000</td>\n",
       "      <td>0.000000</td>\n",
       "      <td>0.000000</td>\n",
       "      <td>0.000000</td>\n",
       "      <td>0.000000</td>\n",
       "    </tr>\n",
       "    <tr>\n",
       "      <th>max</th>\n",
       "      <td>0.295915</td>\n",
       "      <td>0.394042</td>\n",
       "      <td>0.302246</td>\n",
       "      <td>0.263065</td>\n",
       "      <td>0.280478</td>\n",
       "      <td>0.143997</td>\n",
       "      <td>0.169336</td>\n",
       "      <td>0.173141</td>\n",
       "      <td>0.125915</td>\n",
       "      <td>0.123558</td>\n",
       "      <td>...</td>\n",
       "      <td>0.114665</td>\n",
       "      <td>0.136476</td>\n",
       "      <td>0.222985</td>\n",
       "      <td>0.385246</td>\n",
       "      <td>0.433814</td>\n",
       "      <td>0.318207</td>\n",
       "      <td>0.667031</td>\n",
       "      <td>0.572737</td>\n",
       "      <td>0.316251</td>\n",
       "      <td>0.118730</td>\n",
       "    </tr>\n",
       "  </tbody>\n",
       "</table>\n",
       "<p>8 rows × 3195 columns</p>\n",
       "</div>"
      ],
      "text/plain": [
       "              0            1            2            3            4     \\\n",
       "count  1408.000000  1408.000000  1408.000000  1408.000000  1408.000000   \n",
       "mean      0.011060     0.001851     0.009148     0.004242     0.002131   \n",
       "std       0.028484     0.019488     0.021173     0.017531     0.015162   \n",
       "min       0.000000     0.000000     0.000000     0.000000     0.000000   \n",
       "25%       0.000000     0.000000     0.000000     0.000000     0.000000   \n",
       "50%       0.000000     0.000000     0.000000     0.000000     0.000000   \n",
       "75%       0.000000     0.000000     0.000000     0.000000     0.000000   \n",
       "max       0.295915     0.394042     0.302246     0.263065     0.280478   \n",
       "\n",
       "              5            6            7            8            9     \\\n",
       "count  1408.000000  1408.000000  1408.000000  1408.000000  1408.000000   \n",
       "mean      0.000793     0.004649     0.000865     0.006009     0.000879   \n",
       "std       0.008537     0.016844     0.009175     0.017430     0.007898   \n",
       "min       0.000000     0.000000     0.000000     0.000000     0.000000   \n",
       "25%       0.000000     0.000000     0.000000     0.000000     0.000000   \n",
       "50%       0.000000     0.000000     0.000000     0.000000     0.000000   \n",
       "75%       0.000000     0.000000     0.000000     0.000000     0.000000   \n",
       "max       0.143997     0.169336     0.173141     0.125915     0.123558   \n",
       "\n",
       "          ...              3185         3186         3187         3188  \\\n",
       "count     ...       1408.000000  1408.000000  1408.000000  1408.000000   \n",
       "mean      ...          0.001194     0.001139     0.000880     0.001424   \n",
       "std       ...          0.009061     0.009883     0.010622     0.017564   \n",
       "min       ...          0.000000     0.000000     0.000000     0.000000   \n",
       "25%       ...          0.000000     0.000000     0.000000     0.000000   \n",
       "50%       ...          0.000000     0.000000     0.000000     0.000000   \n",
       "75%       ...          0.000000     0.000000     0.000000     0.000000   \n",
       "max       ...          0.114665     0.136476     0.222985     0.385246   \n",
       "\n",
       "              3189         3190         3191         3192         3193  \\\n",
       "count  1408.000000  1408.000000  1408.000000  1408.000000  1408.000000   \n",
       "mean      0.002306     0.001246     0.007334     0.003102     0.001363   \n",
       "std       0.026142     0.015553     0.058607     0.025262     0.013981   \n",
       "min       0.000000     0.000000     0.000000     0.000000     0.000000   \n",
       "25%       0.000000     0.000000     0.000000     0.000000     0.000000   \n",
       "50%       0.000000     0.000000     0.000000     0.000000     0.000000   \n",
       "75%       0.000000     0.000000     0.000000     0.000000     0.000000   \n",
       "max       0.433814     0.318207     0.667031     0.572737     0.316251   \n",
       "\n",
       "              3194  \n",
       "count  1408.000000  \n",
       "mean      0.000803  \n",
       "std       0.008351  \n",
       "min       0.000000  \n",
       "25%       0.000000  \n",
       "50%       0.000000  \n",
       "75%       0.000000  \n",
       "max       0.118730  \n",
       "\n",
       "[8 rows x 3195 columns]"
      ]
     },
     "execution_count": 16,
     "metadata": {},
     "output_type": "execute_result"
    }
   ],
   "source": [
    "test.describe()"
   ]
  },
  {
   "cell_type": "markdown",
   "metadata": {},
   "source": [
    "Above shows the statistics of the dataset. We can see that the numerical values have the same scale, so we can start building classification models. "
   ]
  },
  {
   "cell_type": "markdown",
   "metadata": {},
   "source": [
    "### 3. Build two multi-class classification models using two different classifiers of your choice. "
   ]
  },
  {
   "cell_type": "code",
   "execution_count": 36,
   "metadata": {
    "collapsed": true
   },
   "outputs": [],
   "source": [
    "# split into train and test\n",
    "from sklearn.model_selection import train_test_split\n",
    "dataset_train, dataset_test, target_train, target_test = train_test_split(test, fd['Category'], test_size=0.2)"
   ]
  },
  {
   "cell_type": "markdown",
   "metadata": {},
   "source": [
    "Here, we randomly split the complete dataset into a training test (used to build the model) and an unseen test set (used to try out and evaluate the model). We specify that 20% (0.2) of the data will be used for the test set."
   ]
  },
  {
   "cell_type": "markdown",
   "metadata": {},
   "source": [
    "### KNN Classifier"
   ]
  },
  {
   "cell_type": "code",
   "execution_count": 37,
   "metadata": {
    "collapsed": true
   },
   "outputs": [],
   "source": [
    "from sklearn.neighbors import KNeighborsClassifier\n",
    "model = KNeighborsClassifier(n_neighbors=4) # instantiate learning model (k = 3)"
   ]
  },
  {
   "cell_type": "markdown",
   "metadata": {},
   "source": [
    "We are fitting a k-nearest neighbor model to the data using $k=3$ nearest neighbours"
   ]
  },
  {
   "cell_type": "markdown",
   "metadata": {
    "collapsed": true
   },
   "source": [
    "### SVM Classifier"
   ]
  },
  {
   "cell_type": "code",
   "execution_count": 38,
   "metadata": {
    "collapsed": true
   },
   "outputs": [],
   "source": [
    "from sklearn.svm import SVC\n",
    "from sklearn.metrics import confusion_matrix"
   ]
  },
  {
   "cell_type": "markdown",
   "metadata": {},
   "source": [
    "### 4. Compare the predictions of the two classification models using an appropriate evaluation strategy. Report and discuss the evaluation results in your notebook. "
   ]
  },
  {
   "cell_type": "markdown",
   "metadata": {},
   "source": [
    "###### KNN"
   ]
  },
  {
   "cell_type": "markdown",
   "metadata": {},
   "source": [
    "Make predictions for the test set, based on the model that we just built above"
   ]
  },
  {
   "cell_type": "code",
   "execution_count": 39,
   "metadata": {
    "scrolled": true
   },
   "outputs": [
    {
     "data": {
      "text/plain": [
       "Text(0.5,1,'To find suitable K Value')"
      ]
     },
     "execution_count": 39,
     "metadata": {},
     "output_type": "execute_result"
    },
    {
     "data": {
      "image/png": "[encoded data removed]",
      "text/plain": [
       "<matplotlib.figure.Figure at 0x1753a3c2438>"
      ]
     },
     "metadata": {},
     "output_type": "display_data"
    }
   ],
   "source": [
    "# To know the best value value of k  \n",
    "from sklearn.metrics import accuracy_score\n",
    "k_range = range(1, 30)\n",
    "scores = []\n",
    "for k in k_range:\n",
    "    knn = KNeighborsClassifier(n_neighbors = k)\n",
    "    knn.fit(dataset_train, target_train) # fitting the model\n",
    "    predictedf = knn.predict(dataset_test) # predict the testset\n",
    "    scores.append(accuracy_score(target_test, predictedf)*100) # evaluate accuracy\n",
    "plt.figure()\n",
    "plt.xlabel('k')\n",
    "plt.ylabel('accuracy')\n",
    "plt.plot(k_range, scores)\n",
    "plt.xticks([0,5,10,15,20,25,30])\n",
    "plt.title('To find suitable K Value')"
   ]
  },
  {
   "cell_type": "markdown",
   "metadata": {},
   "source": [
    "From the plot we can see that, the Accuracy is best obtained at several points. We also get to know that increasing the number of neighbours above certain value does not increase but instead deteriorates the accuracy. ** Output may change if you run the above cell again as train and test set are randomly selected."
   ]
  },
  {
   "cell_type": "code",
   "execution_count": 40,
   "metadata": {},
   "outputs": [
    {
     "name": "stdout",
     "output_type": "stream",
     "text": [
      "KNN_Accuracy : 95.745\n"
     ]
    }
   ],
   "source": [
    "# k= 3\n",
    "model.fit(dataset_train, target_train) # fitting the model\n",
    "kpredicted = model.predict(dataset_test) # predict the testset\n",
    "knn_accuracy=accuracy_score(target_test, kpredicted)*100\n",
    "print(\"KNN_Accuracy : %.3f\" % knn_accuracy) # evaluate accuracy"
   ]
  },
  {
   "cell_type": "markdown",
   "metadata": {},
   "source": [
    "An overall accuracy score for the predictions, defined as the fraction of correct predictions."
   ]
  },
  {
   "cell_type": "code",
   "execution_count": 41,
   "metadata": {},
   "outputs": [
    {
     "name": "stdout",
     "output_type": "stream",
     "text": [
      "[[101   1   3]\n",
      " [  4 101   1]\n",
      " [  3   0  68]]\n"
     ]
    }
   ],
   "source": [
    "# build the confusion matrix\n",
    "cm = confusion_matrix(target_test, kpredicted,labels=[0,1,2])\n",
    "print(cm)"
   ]
  },
  {
   "cell_type": "code",
   "execution_count": 42,
   "metadata": {},
   "outputs": [
    {
     "data": {
      "text/plain": [
       "Text(0.5,1,'Confusion Matrix')"
      ]
     },
     "execution_count": 42,
     "metadata": {},
     "output_type": "execute_result"
    },
    {
     "data": {
      "image/png": "[encoded data removed]",
      "text/plain": [
       "<matplotlib.figure.Figure at 0x1753a638e48>"
      ]
     },
     "metadata": {},
     "output_type": "display_data"
    }
   ],
   "source": [
    "sns.heatmap(cm,annot=True,cbar=True,fmt=\"d\")\n",
    "plt.xlabel(\"Predicted\")\n",
    "plt.ylabel(\"Real Class\")\n",
    "plt.title('Confusion Matrix')"
   ]
  },
  {
   "cell_type": "markdown",
   "metadata": {},
   "source": [
    "The result is a NumPy matrix, with predicted labels on the columns and True labels on the rows. The Values along the diagonal are True Positive's of each category."
   ]
  },
  {
   "cell_type": "code",
   "execution_count": 43,
   "metadata": {
    "scrolled": true
   },
   "outputs": [
    {
     "data": {
      "text/plain": [
       "Counter({0: 105, 1: 106, 2: 71})"
      ]
     },
     "execution_count": 43,
     "metadata": {},
     "output_type": "execute_result"
    }
   ],
   "source": [
    "# to know the number distinct category labels in testset of target(Category)\n",
    "from collections import Counter\n",
    "Counter(target_test.data.tolist()) #same as support"
   ]
  },
  {
   "cell_type": "markdown",
   "metadata": {},
   "source": [
    "0: Business, 1: Sport, 2: technology"
   ]
  },
  {
   "cell_type": "markdown",
   "metadata": {},
   "source": [
    "Classification results from my model are:\n",
    "\n",
    "101 of the 105 examples in class 0(Business) were correctly labelled; 1 were misclassified to class 1(Sport) and 3 were misclassified to class 2(Technology).\n",
    "\n",
    "101 of the 106 examples in class 1(Sport) were correctly labelled; 4 were misclassified to class 0(Business) and 1 were misclassified to class 2(Technology).\n",
    "\n",
    "68 of the 71 examples in class 2(Technology) were correctly labelled; 3 were misclassified to class 0(Business) and 0 to class 1(Sport)."
   ]
  },
  {
   "cell_type": "code",
   "execution_count": 44,
   "metadata": {
    "scrolled": true
   },
   "outputs": [
    {
     "name": "stdout",
     "output_type": "stream",
     "text": [
      "KNN_Mean_Cross-Validation_Accuracy : 95.879\n"
     ]
    }
   ],
   "source": [
    "# Cross Validation\n",
    "from sklearn.model_selection import cross_val_score\n",
    "scores = cross_val_score(model, test, fd['Category'], cv=5,scoring=\"accuracy\")\n",
    "print(\"KNN_Mean_Cross-Validation_Accuracy : %.3f\" % (scores.mean()*100))"
   ]
  },
  {
   "cell_type": "markdown",
   "metadata": {},
   "source": [
    "A problem with simply randomly splitting a dataset into two sets is that each random split might give different results. We are also ignoring a portion of your dataset. One way to address this is to use *k-fold cross-validation* to evaluate a classifier:\n",
    "1. Divide the data into k disjoint subsets - “folds” (e.g. k=10).\n",
    "2. For each of k experiments, use k-1 folds for training and the selected one fold for testing.\n",
    "3. Repeat for all k folds, average the accuracy/error rates."
   ]
  },
  {
   "cell_type": "code",
   "execution_count": 45,
   "metadata": {
    "scrolled": true
   },
   "outputs": [
    {
     "name": "stdout",
     "output_type": "stream",
     "text": [
      "             precision    recall  f1-score   support\n",
      "\n",
      " technology       0.94      0.96      0.95       105\n",
      "   business       0.99      0.95      0.97       106\n",
      "      sport       0.94      0.96      0.95        71\n",
      "\n",
      "avg / total       0.96      0.96      0.96       282\n",
      "\n"
     ]
    }
   ],
   "source": [
    "#computes a summary of statistics of Knn\n",
    "from sklearn import metrics\n",
    "print(metrics.classification_report(target_test, kpredicted, target_names=fd['labels'].unique()))"
   ]
  },
  {
   "cell_type": "markdown",
   "metadata": {},
   "source": [
    "Measures from information retrieval (search engines) can be used in ML evaluation. Note that these are calculated with respect to a particular class (e.g. the positive class labelled as \"1\").\n",
    "- *Precision*: proportion of retrieved results that are relevant = TP/(TP+FP)\n",
    "- *Recall*: proportion of relevant results that are retrieved = TP/(TP+FN)\n",
    "- *F1-Score*: Weighted average of the precision and recall which is just used to summarise what’s happening in the precision and recall. The F1 Measure reaches its best value at 1 and worst at 0.\n",
    "- *support*: number of distinct category labels in testset of target(Category) "
   ]
  },
  {
   "cell_type": "code",
   "execution_count": 93,
   "metadata": {},
   "outputs": [
    {
     "data": {
      "image/png": "[encoded data removed]",
      "text/plain": [
       "<matplotlib.figure.Figure at 0x1753e2f9588>"
      ]
     },
     "metadata": {},
     "output_type": "display_data"
    }
   ],
   "source": [
    "#ROC Curve for KNN\n",
    "from sklearn.metrics import *\n",
    "from scipy import interp\n",
    "from itertools import cycle\n",
    "n_classes=3\n",
    "fpr = dict()\n",
    "tpr = dict()\n",
    "roc_auc = dict()\n",
    "\n",
    "for i in range(n_classes):\n",
    "    fpr[i], tpr[i], _ = roc_curve(np.array(pd.get_dummies(target_test))[:, i], np.array(pd.get_dummies(kpredicted))[:, i])\n",
    "    roc_auc[i] = auc(fpr[i], tpr[i])\n",
    "all_fpr = np.unique(np.concatenate([fpr[i] for i in range(n_classes)]))\n",
    "\n",
    "mean_tpr = np.zeros_like(all_fpr)\n",
    "for i in range(n_classes):\n",
    "    mean_tpr += interp(all_fpr, fpr[i], tpr[i])\n",
    "\n",
    "mean_tpr /= n_classes\n",
    "\n",
    "fpr[\"macro\"] = all_fpr\n",
    "tpr[\"macro\"] = mean_tpr\n",
    "roc_auc[\"macro\"] = auc(fpr[\"macro\"], tpr[\"macro\"])\n",
    "\n",
    "lw=2\n",
    "plt.figure(figsize=(8,5))\n",
    "plt.plot(fpr[\"macro\"], tpr[\"macro\"],\n",
    "         label='macro-average ROC curve (area = {0:0.2f})'\n",
    "               ''.format(roc_auc[\"macro\"]),\n",
    "         color='green', linestyle=':', linewidth=4)\n",
    "\n",
    "colors = cycle(['black', 'darkorange', 'aqua'])\n",
    "for i, color in zip(range(n_classes), colors):\n",
    "    plt.plot(fpr[i], tpr[i], color=color, lw=lw,\n",
    "             label='ROC curve of class {0} (area = {1:0.2f})'\n",
    "             ''.format(i, roc_auc[i]))\n",
    "\n",
    "plt.plot([0, 1], [0, 1], 'k--',color='red', lw=lw)\n",
    "plt.xlim([0.0, 1.0])\n",
    "plt.ylim([0.0, 1.05])\n",
    "plt.annotate('BaseLine',(.5,.48),color='black')\n",
    "plt.xlabel('False Positive Rate')\n",
    "plt.ylabel('True Positive Rate')\n",
    "plt.title('Receiver Operating Characteristic for KNN')\n",
    "plt.legend(loc=\"best\")\n",
    "plt.show()\n",
    "#Reference: http://scikit-learn.org/stable/auto_examples/model_selection/plot_roc.html"
   ]
  },
  {
   "cell_type": "markdown",
   "metadata": {},
   "source": [
    "The ROC plot uses (1-specificity) on the x-axis and sensitivity on the y-axis. True positive rate (TPR) is also caled recall. Receiver Operating Characteristic (ROC) is a metric to evaluate classifier output quality. A classifier with the perfect performance level shows a combination of two straight lines – from the origin (0.0, 0.0) to the top left corner (0.0, 1.0) and further to the top right corner (1.0, 1.0). We see that in this case with KNN as classification model there are 4 ROC curves as there are 3 labels and 1 for average of 3 labels. The AUC under ROC of each label is close to 1.0; larger area under the curve (AUC) is usually better. "
   ]
  },
  {
   "cell_type": "markdown",
   "metadata": {},
   "source": [
    "###### SVM"
   ]
  },
  {
   "cell_type": "code",
   "execution_count": 94,
   "metadata": {
    "scrolled": true
   },
   "outputs": [
    {
     "name": "stdout",
     "output_type": "stream",
     "text": [
      "SVM_Accuracy : 98.936\n",
      "Coefficients:\n",
      " [[ 0.08935663 -0.2385017  -0.03099409 ..., -0.0774747   0.25061827\n",
      "  -0.06890712]\n",
      " [ 0.28356294  0.          0.11394849 ...,  0.02698406  0.00489552\n",
      "  -0.02820613]\n",
      " [-0.20544788  0.20161552 -0.03727572 ...,  0.15232677 -0.19927343\n",
      "   0.05900973]]\n",
      "Intercepts:\n",
      " [-0.00714511  0.19173892  0.18651071]\n"
     ]
    }
   ],
   "source": [
    "#number of features is really large compared to the training sample So using Linear kernal.\n",
    "poly=SVC(C=1.0,kernel='linear') # linear kernal, Penalty parameter C of the error term.\n",
    "poly.fit(dataset_train, target_train) # fitting the model\n",
    "predicted=poly.predict(dataset_test)\n",
    "svm_accuracy=accuracy_score(target_test, predicted)*100\n",
    "print(\"SVM_Accuracy : %.3f\" % svm_accuracy)\n",
    "print('Coefficients:\\n', poly.coef_)\n",
    "print('Intercepts:\\n', poly.intercept_)"
   ]
  },
  {
   "cell_type": "markdown",
   "metadata": {},
   "source": [
    "Coefficients: Weights assigned to the features.\n",
    "Intercept: Constants in decision function."
   ]
  },
  {
   "cell_type": "code",
   "execution_count": 47,
   "metadata": {
    "scrolled": true
   },
   "outputs": [
    {
     "name": "stdout",
     "output_type": "stream",
     "text": [
      "[[103   0   2]\n",
      " [  0 106   0]\n",
      " [  1   0  70]]\n"
     ]
    }
   ],
   "source": [
    "#confusion Matrix\n",
    "cm1 = confusion_matrix(target_test, predicted,labels=[0,1,2])\n",
    "print(cm1)"
   ]
  },
  {
   "cell_type": "code",
   "execution_count": 48,
   "metadata": {
    "scrolled": true
   },
   "outputs": [
    {
     "data": {
      "text/plain": [
       "Text(0.5,1,'Confusion Matrix')"
      ]
     },
     "execution_count": 48,
     "metadata": {},
     "output_type": "execute_result"
    },
    {
     "data": {
      "image/png": "[encoded data removed]",
      "text/plain": [
       "<matplotlib.figure.Figure at 0x1753a49ccf8>"
      ]
     },
     "metadata": {},
     "output_type": "display_data"
    }
   ],
   "source": [
    "sns.heatmap(cm1,annot=True,cbar=True,fmt=\"d\")\n",
    "plt.xlabel(\"Predicted\")\n",
    "plt.ylabel(\"Real Class\")\n",
    "plt.title('Confusion Matrix')"
   ]
  },
  {
   "cell_type": "markdown",
   "metadata": {},
   "source": [
    "The result is a NumPy matrix, with predictions on the columns and actual labels on the rows. The Values along the diagonal are TP's of each category."
   ]
  },
  {
   "cell_type": "code",
   "execution_count": 49,
   "metadata": {
    "scrolled": true
   },
   "outputs": [
    {
     "data": {
      "text/plain": [
       "Counter({0: 105, 1: 106, 2: 71})"
      ]
     },
     "execution_count": 49,
     "metadata": {},
     "output_type": "execute_result"
    }
   ],
   "source": [
    "# to know the number distinct category labels in testset of target(Category)\n",
    "Counter(target_test.data.tolist()) #same as support"
   ]
  },
  {
   "cell_type": "markdown",
   "metadata": {},
   "source": [
    "0: Business, 1: Sport, 2: technology"
   ]
  },
  {
   "cell_type": "markdown",
   "metadata": {},
   "source": [
    "Classification results from my model are:\n",
    "\n",
    "103 of the 105 examples in class 0(Business) were correctly labelled; 0 were misclassified to class 1(Sport) and 2 were misclassified to class 2(Technology).\n",
    "\n",
    "106 of the 106 examples in class 1(Sport) were correctly labelled; 0 were misclassified to class 0(Business) and 0 were misclassified to class 2(Technology) . \n",
    "\n",
    "70 of the 71 examples in class 2(Technology) were correctly labelled; 1 were misclassified to class 0(Business) and 0 to class 1(Sport)."
   ]
  },
  {
   "cell_type": "code",
   "execution_count": 53,
   "metadata": {},
   "outputs": [
    {
     "name": "stdout",
     "output_type": "stream",
     "text": [
      "SVM: Mean cross-validation accuracy = 98.295\n"
     ]
    }
   ],
   "source": [
    "acc_scores1 = cross_val_score(poly, test, fd['Category'], cv=5, scoring=\"accuracy\")\n",
    "print(\"SVM: Mean cross-validation accuracy = %.3f\" % (acc_scores1.mean() *100))"
   ]
  },
  {
   "cell_type": "code",
   "execution_count": 51,
   "metadata": {
    "scrolled": true
   },
   "outputs": [
    {
     "name": "stdout",
     "output_type": "stream",
     "text": [
      "             precision    recall  f1-score   support\n",
      "\n",
      " technology       0.99      0.98      0.99       105\n",
      "   business       1.00      1.00      1.00       106\n",
      "      sport       0.97      0.99      0.98        71\n",
      "\n",
      "avg / total       0.99      0.99      0.99       282\n",
      "\n"
     ]
    }
   ],
   "source": [
    "#compute a summary of statistics of SVM\n",
    "print(metrics.classification_report(target_test, predicted, target_names=fd['labels'].unique()))"
   ]
  },
  {
   "cell_type": "markdown",
   "metadata": {},
   "source": [
    "Recall is a performance measure of the whole positive part of a dataset, whereas precision is a performance measure of positive predictions."
   ]
  },
  {
   "cell_type": "code",
   "execution_count": 92,
   "metadata": {
    "scrolled": false
   },
   "outputs": [
    {
     "data": {
      "image/png": "[encoded data removed]",
      "text/plain": [
       "<matplotlib.figure.Figure at 0x1753a1b7a20>"
      ]
     },
     "metadata": {},
     "output_type": "display_data"
    }
   ],
   "source": [
    "#ROC Curve for SVM\n",
    "n_classes=3\n",
    "fpr = dict()\n",
    "tpr = dict()\n",
    "roc_auc = dict()\n",
    "\n",
    "for i in range(n_classes):\n",
    "    fpr[i], tpr[i], _ = roc_curve(np.array(pd.get_dummies(target_test))[:, i], np.array(pd.get_dummies(predicted))[:, i])\n",
    "    roc_auc[i] = auc(fpr[i], tpr[i])\n",
    "all_fpr = np.unique(np.concatenate([fpr[i] for i in range(n_classes)]))\n",
    "\n",
    "mean_tpr = np.zeros_like(all_fpr)\n",
    "for i in range(n_classes):\n",
    "    mean_tpr += interp(all_fpr, fpr[i], tpr[i])\n",
    "\n",
    "mean_tpr /= n_classes\n",
    "\n",
    "fpr[\"macro\"] = all_fpr\n",
    "tpr[\"macro\"] = mean_tpr\n",
    "roc_auc[\"macro\"] = auc(fpr[\"macro\"], tpr[\"macro\"])\n",
    "\n",
    "lw=2\n",
    "plt.figure(figsize=(8,5))\n",
    "plt.plot(fpr[\"macro\"], tpr[\"macro\"],\n",
    "         label='macro-average ROC curve (area = {0:0.2f})'\n",
    "               ''.format(roc_auc[\"macro\"]),\n",
    "         color='green', linestyle=':', linewidth=4)\n",
    "\n",
    "colors = cycle(['black', 'darkorange', 'aqua'])\n",
    "for i, color in zip(range(n_classes), colors):\n",
    "    plt.plot(fpr[i], tpr[i], color=color, lw=lw,\n",
    "             label='ROC curve of class {0} (area = {1:0.2f})'\n",
    "             ''.format(i, roc_auc[i]))\n",
    "\n",
    "plt.plot([0, 1], [0, 1], 'k--',color='red', lw=lw)\n",
    "plt.xlim([0.0, 1.0])\n",
    "plt.ylim([0.0, 1.05])\n",
    "plt.annotate('BaseLine',(.5,.48),color='black')\n",
    "plt.xlabel('False Positive Rate')\n",
    "plt.ylabel('True Positive Rate')\n",
    "plt.title('Receiver Operating Characteristic for SVM')\n",
    "plt.legend(loc=\"best\")\n",
    "plt.show()\n",
    "#Reference: http://scikit-learn.org/stable/auto_examples/model_selection/plot_roc.html"
   ]
  },
  {
   "cell_type": "markdown",
   "metadata": {},
   "source": [
    "Receiver Operating Characteristic (ROC) is a metric to evaluate classifier output quality. A classifier with the perfect performance level shows a combination of two straight lines – from the origin (0.0, 0.0) to the top left corner (0.0, 1.0) and further to the top right corner (1.0, 1.0). We see that in this case with SVM as classification model there are 4 ROC curves as there are 3 labels and 1 for average of 3 labels. The AUC under ROC of each label is alomst 1.0; larger area under the curve (AUC) is usually better. The plot shows that SVM is a best Classifier for this dataset. "
   ]
  },
  {
   "cell_type": "markdown",
   "metadata": {},
   "source": [
    "# Conclusion"
   ]
  },
  {
   "cell_type": "code",
   "execution_count": 52,
   "metadata": {},
   "outputs": [
    {
     "data": {
      "text/plain": [
       "([<matplotlib.axis.YTick at 0x1753a6ca4a8>,\n",
       "  <matplotlib.axis.YTick at 0x1753a6caf60>],\n",
       " <a list of 2 Text yticklabel objects>)"
      ]
     },
     "execution_count": 52,
     "metadata": {},
     "output_type": "execute_result"
    },
    {
     "data": {
      "image/png": "[encoded data removed]",
      "text/plain": [
       "<matplotlib.figure.Figure at 0x1753a505b70>"
      ]
     },
     "metadata": {},
     "output_type": "display_data"
    }
   ],
   "source": [
    "accuracy={'KNN':knn_accuracy,'SVM':svm_accuracy}\n",
    "plt.xlim(0,100)\n",
    "plt.barh(range(len(accuracy)),list(accuracy.values()))\n",
    "plt.yticks(range(len(accuracy)),list(accuracy.keys()))"
   ]
  },
  {
   "cell_type": "markdown",
   "metadata": {},
   "source": [
    "###### I have chosen 'KNN' beacuse it is one of the popular and efficient clasiification algorithm and 'SVM' because the number of features are high compared to a number of data points in the dataset and the sparsity is also high. Also SVM is popular in text classification problems with very high-dimensional spaces."
   ]
  },
  {
   "cell_type": "markdown",
   "metadata": {},
   "source": [
    "###### SVM has 98.93% accuracy over KNN's 95.74%. We also got to know that the precision and recall for SVM (99%) is greater than KNN(96%) which determines the accuracy and the ROC plot for both classifiers imply that the AUC for SVM is greater than KNN, this is because of the number of True Positives identified by the SVM (279) are higher over KNN(270) on 282 examples. \n",
    "###### SVM is better than KNN for this dataset as in KNN the best 'k' value should be set forehand to build the model and also if the 'k' value is small it'll be susceptible to noise and if 'k' is higher than it would computaionally expensive. Also, in a very high dimensional space the distance to all neighbors becomes more or less the same, and the notion of nearest and far neighbors becomes blurred. The performance of the KNN classifier is dependent on the number of neighbours, which is assigned through empirical analysis (by checking for various values of 'k'). \n",
    "##### So on the whole, SVM outperforms KNN in every aspect of comparison."
   ]
  },
  {
   "cell_type": "code",
   "execution_count": null,
   "metadata": {
    "collapsed": true
   },
   "outputs": [],
   "source": []
  }
 ],
 "metadata": {
  "kernelspec": {
   "display_name": "Python 3",
   "language": "python",
   "name": "python3"
  },
  "language_info": {
   "codemirror_mode": {
    "name": "ipython",
    "version": 3
   },
   "file_extension": ".py",
   "mimetype": "text/x-python",
   "name": "python",
   "nbconvert_exporter": "python",
   "pygments_lexer": "ipython3",
   "version": "3.6.3"
  }
 },
 "nbformat": 4,
 "nbformat_minor": 2
}
